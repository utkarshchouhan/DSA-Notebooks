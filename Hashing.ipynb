{
 "cells": [
  {
   "cell_type": "markdown",
   "id": "028b043a-e32d-4f59-8cc6-5d13ee3115c8",
   "metadata": {},
   "source": [
    "# Hashing"
   ]
  },
  {
   "cell_type": "markdown",
   "id": "2c7f0b1c-221b-4540-850f-25fe731b9885",
   "metadata": {},
   "source": [
    "Applications of Hasihing\n",
    "1. Dictionaries\n",
    "2. Database Indexing\n",
    "3. Cryptography\n",
    "4. Caches\n",
    "5. Symbol Tables in Compilers/Interpreters\n",
    "6. Routers\n",
    "7. Getting Data From Databases\n",
    "\n",
    "Many More..."
   ]
  },
  {
   "cell_type": "markdown",
   "id": "1a874340-d098-43aa-a4b0-815ef37789e8",
   "metadata": {},
   "source": [
    "Direct Address Table\n",
    "\n",
    "Imagine a situation where you have 1000 keys with values from (0 to 999), how would you implement following in O(1) time.\n",
    "\n",
    "1). Search\n",
    "\n",
    "2). Insert\n",
    "\n",
    "3). Delete"
   ]
  },
  {
   "cell_type": "code",
   "execution_count": null,
   "id": "33e5ab2b-c319-4b74-892f-0e08b5aabbac",
   "metadata": {},
   "outputs": [],
   "source": []
  }
 ],
 "metadata": {
  "kernelspec": {
   "display_name": "Python 3 (ipykernel)",
   "language": "python",
   "name": "python3"
  },
  "language_info": {
   "codemirror_mode": {
    "name": "ipython",
    "version": 3
   },
   "file_extension": ".py",
   "mimetype": "text/x-python",
   "name": "python",
   "nbconvert_exporter": "python",
   "pygments_lexer": "ipython3",
   "version": "3.11.4"
  }
 },
 "nbformat": 4,
 "nbformat_minor": 5
}
