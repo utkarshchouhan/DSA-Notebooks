{
 "cells": [
  {
   "cell_type": "markdown",
   "id": "bf714f97-2ef6-4c7a-97e7-4c7c9cb367d9",
   "metadata": {},
   "source": [
    "# Sorting In Python"
   ]
  },
  {
   "cell_type": "markdown",
   "id": "a4769a8d-930b-43e3-90ce-d47b74d4634b",
   "metadata": {},
   "source": [
    "### sort()\n",
    "- works only for list\n",
    "- Sorts in-place\n",
    "\n",
    "### sorted()\n",
    "- Works for any iterable\n",
    "- Does not modify the passed container, instead returns a new list of sorted items.\n",
    "\n",
    "### Tim Sort\n",
    "- Both of the methods use Tim Sort and both are stable sorting methods.\n",
    "- Tim Sort is a hybrid algorithm made merge sort and insertion sort.\n",
    "- Tim Sort has Big O of nlog(n) time complexity."
   ]
  },
  {
   "cell_type": "markdown",
   "id": "534221b1-85b3-40ec-9f1a-003202d13b78",
   "metadata": {},
   "source": [
    "# List sort() method in Python"
   ]
  },
  {
   "cell_type": "code",
   "execution_count": 7,
   "id": "6210caba-3ac5-4a52-91ed-9427281b9e0e",
   "metadata": {},
   "outputs": [
    {
     "data": {
      "text/plain": [
       "[1, 5, 10, 15]"
      ]
     },
     "execution_count": 7,
     "metadata": {},
     "output_type": "execute_result"
    }
   ],
   "source": [
    "l1 = [5,10,15,1]\n",
    "l1.sort()\n",
    "l1"
   ]
  },
  {
   "cell_type": "code",
   "execution_count": 8,
   "id": "a30370cc-1635-489a-bfe1-c20f63da0f5e",
   "metadata": {},
   "outputs": [
    {
     "data": {
      "text/plain": [
       "[10, 5, 3, 1]"
      ]
     },
     "execution_count": 8,
     "metadata": {},
     "output_type": "execute_result"
    }
   ],
   "source": [
    "l2 = [1,5,3,10]\n",
    "l2.sort(reverse = True)\n",
    "l2"
   ]
  },
  {
   "cell_type": "code",
   "execution_count": 11,
   "id": "99a0ab72-6a60-4d87-b2eb-37a8450ea50c",
   "metadata": {},
   "outputs": [
    {
     "data": {
      "text/plain": [
       "['courses', 'ide', 'utkarsh']"
      ]
     },
     "execution_count": 11,
     "metadata": {},
     "output_type": "execute_result"
    }
   ],
   "source": [
    "l3 = [\"utkarsh\", \"ide\", \"courses\"]\n",
    "l3.sort()\n",
    "l3"
   ]
  },
  {
   "cell_type": "code",
   "execution_count": 12,
   "id": "8cfc3493-5aa0-432f-9f36-7c142b2585b9",
   "metadata": {},
   "outputs": [
    {
     "data": {
      "text/plain": [
       "['ide', 'utkarsh', 'courses', 'chouhan']"
      ]
     },
     "execution_count": 12,
     "metadata": {},
     "output_type": "execute_result"
    }
   ],
   "source": [
    "def myFun(s):\n",
    "    return len(s)\n",
    "l = [\"utkarsh\", \"ide\", \"courses\",\"chouhan\"]\n",
    "l.sort(key = myFun)\n",
    "l"
   ]
  },
  {
   "cell_type": "code",
   "execution_count": 13,
   "id": "fdf442a9-026d-4d8e-b953-8b21c28d63fe",
   "metadata": {},
   "outputs": [
    {
     "data": {
      "text/plain": [
       "['utkarsh', 'courses', 'chouhan', 'ide']"
      ]
     },
     "execution_count": 13,
     "metadata": {},
     "output_type": "execute_result"
    }
   ],
   "source": [
    "l.sort(key = myFun, reverse = True)\n",
    "l"
   ]
  },
  {
   "cell_type": "code",
   "execution_count": 20,
   "id": "c29cd390-ee8d-4125-a134-1d5b71874951",
   "metadata": {},
   "outputs": [
    {
     "name": "stdout",
     "output_type": "stream",
     "text": [
      "1 15\n",
      "3 8\n",
      "10 5\n"
     ]
    }
   ],
   "source": [
    "class Point:\n",
    "    def __init__(self,x,y):\n",
    "        self.x = x\n",
    "        self.y = y\n",
    "\n",
    "def myFun(p):\n",
    "    return p.x\n",
    "\n",
    "l = [Point(1,15),Point(10,5),Point(3,8)]\n",
    "l.sort(key = myFun)\n",
    "for i in l:\n",
    "    print(i.x,i.y)"
   ]
  },
  {
   "cell_type": "code",
   "execution_count": 22,
   "id": "f37825af-50bb-4af5-8791-405c0b598a73",
   "metadata": {},
   "outputs": [
    {
     "name": "stdout",
     "output_type": "stream",
     "text": [
      "1 15\n",
      "3 8\n",
      "10 5\n"
     ]
    }
   ],
   "source": [
    "class Point:\n",
    "    def __init__(self,x,y):\n",
    "        self.x = x\n",
    "        self.y = y\n",
    "    def __lt__(self,other):\n",
    "        return self.x < other.x\n",
    "        \n",
    "l = [Point(1,15),Point(10,5),Point(3,8)]\n",
    "l.sort()\n",
    "for i in l:\n",
    "    print(i.x,i.y)"
   ]
  },
  {
   "cell_type": "code",
   "execution_count": null,
   "id": "7fd94290-d572-4e6a-8f35-a4af05132338",
   "metadata": {},
   "outputs": [],
   "source": []
  }
 ],
 "metadata": {
  "kernelspec": {
   "display_name": "Python 3 (ipykernel)",
   "language": "python",
   "name": "python3"
  },
  "language_info": {
   "codemirror_mode": {
    "name": "ipython",
    "version": 3
   },
   "file_extension": ".py",
   "mimetype": "text/x-python",
   "name": "python",
   "nbconvert_exporter": "python",
   "pygments_lexer": "ipython3",
   "version": "3.11.4"
  }
 },
 "nbformat": 4,
 "nbformat_minor": 5
}
