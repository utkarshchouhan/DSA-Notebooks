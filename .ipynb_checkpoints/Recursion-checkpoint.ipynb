{
 "cells": [
  {
   "cell_type": "markdown",
   "id": "dda797ce-47f6-478c-873a-46e54afcd17d",
   "metadata": {},
   "source": [
    "A function is called recursive if calls a copy of itself."
   ]
  },
  {
   "cell_type": "code",
   "execution_count": 4,
   "id": "180517d4-a086-434a-a587-6b56280a8cb9",
   "metadata": {
    "tags": []
   },
   "outputs": [],
   "source": [
    "def fun1():\n",
    "    print(\"fun1() called\")\n",
    "\n",
    "def fun2():\n",
    "    print(\"Before fun1()\")\n",
    "    fun1()\n",
    "    print(\"After Fun1()\")"
   ]
  },
  {
   "cell_type": "code",
   "execution_count": 5,
   "id": "e519715d-fc4a-4fb0-98cb-70383d296b4c",
   "metadata": {
    "tags": []
   },
   "outputs": [
    {
     "name": "stdout",
     "output_type": "stream",
     "text": [
      "Before fun2()\n",
      "Before fun1()\n",
      "fun1() called\n",
      "After Fun1()\n",
      "After fun2()\n"
     ]
    }
   ],
   "source": [
    "print(\"Before fun2()\")\n",
    "fun2()\n",
    "print(\"After fun2()\")"
   ]
  },
  {
   "cell_type": "markdown",
   "id": "75dd28b3-cff6-40a1-8dc9-e4a2c9909e78",
   "metadata": {
    "jp-MarkdownHeadingCollapsed": true,
    "tags": []
   },
   "source": [
    "## Writing base cases in Recursion"
   ]
  },
  {
   "cell_type": "markdown",
   "id": "a99af4b3-4c71-416d-b45a-ce1901969b3e",
   "metadata": {
    "tags": []
   },
   "source": [
    "### Factorial n where n >= 0"
   ]
  },
  {
   "cell_type": "code",
   "execution_count": 15,
   "id": "f397fbca-886c-44b5-b05a-148f8aaac4c3",
   "metadata": {
    "tags": []
   },
   "outputs": [],
   "source": [
    "def factorial(n):\n",
    "    if n == 0:\n",
    "        return 1\n",
    "    \n",
    "    return n*factorial(n-1)"
   ]
  },
  {
   "cell_type": "code",
   "execution_count": 16,
   "id": "82e1d920-9433-43e8-96b2-953e5fd08436",
   "metadata": {
    "tags": []
   },
   "outputs": [
    {
     "data": {
      "text/plain": [
       "120"
      ]
     },
     "execution_count": 16,
     "metadata": {},
     "output_type": "execute_result"
    }
   ],
   "source": [
    "factorial(5)"
   ]
  },
  {
   "cell_type": "markdown",
   "id": "15ec1103-bc08-43d4-9017-275d290236a0",
   "metadata": {
    "tags": []
   },
   "source": [
    "### Fibonacci Number"
   ]
  },
  {
   "cell_type": "code",
   "execution_count": 30,
   "id": "1e18aa58-49e4-4ac9-b67a-ba673d945a8d",
   "metadata": {
    "tags": []
   },
   "outputs": [],
   "source": [
    "def fib(n):\n",
    "    if n == 0:\n",
    "        return 0\n",
    "    if n == 1:\n",
    "        return 1\n",
    "    return fib(n-1)+fib(n-2)"
   ]
  },
  {
   "cell_type": "code",
   "execution_count": 31,
   "id": "cb879d63-ceca-43f8-9e68-43c7d4ea3459",
   "metadata": {
    "tags": []
   },
   "outputs": [
    {
     "data": {
      "text/plain": [
       "55"
      ]
     },
     "execution_count": 31,
     "metadata": {},
     "output_type": "execute_result"
    }
   ],
   "source": [
    "fib(10)"
   ]
  },
  {
   "cell_type": "markdown",
   "id": "207b296f-a8f2-4234-9ca7-c5aba2307cf5",
   "metadata": {},
   "source": [
    "## Recursion Practice"
   ]
  },
  {
   "cell_type": "code",
   "execution_count": 37,
   "id": "be3bd565-5802-4f59-926d-bfd54edb568f",
   "metadata": {
    "tags": []
   },
   "outputs": [],
   "source": [
    "def fun1(n):\n",
    "    if n == 0:\n",
    "        return\n",
    "    print(n)\n",
    "    fun1(n-1)\n",
    "    print(n)"
   ]
  },
  {
   "cell_type": "code",
   "execution_count": 38,
   "id": "c4f9f290-194d-489f-992f-854e26015733",
   "metadata": {
    "tags": []
   },
   "outputs": [
    {
     "name": "stdout",
     "output_type": "stream",
     "text": [
      "3\n",
      "2\n",
      "1\n",
      "1\n",
      "2\n",
      "3\n"
     ]
    }
   ],
   "source": [
    "fun1(3)"
   ]
  },
  {
   "cell_type": "code",
   "execution_count": 42,
   "id": "6b1308fb-0551-478f-95a3-b1892d2846a9",
   "metadata": {
    "tags": []
   },
   "outputs": [],
   "source": [
    "def fun2(n):\n",
    "    if n == 0:\n",
    "        return\n",
    "    fun2(n-1)\n",
    "    print(n)\n",
    "    fun2(n-1)"
   ]
  },
  {
   "cell_type": "code",
   "execution_count": 43,
   "id": "512e8043-a9c1-4a4d-82ac-265739ef3378",
   "metadata": {
    "tags": []
   },
   "outputs": [
    {
     "name": "stdout",
     "output_type": "stream",
     "text": [
      "1\n",
      "2\n",
      "1\n",
      "3\n",
      "1\n",
      "2\n",
      "1\n"
     ]
    }
   ],
   "source": [
    "fun2(3)"
   ]
  },
  {
   "cell_type": "code",
   "execution_count": 48,
   "id": "9c6e047a-c610-4107-a89c-625ace56403c",
   "metadata": {
    "tags": []
   },
   "outputs": [],
   "source": [
    "def fun3(n):\n",
    "    if n <=1:\n",
    "        return 0\n",
    "    else:\n",
    "        return 1+fun3(n//2)"
   ]
  },
  {
   "cell_type": "code",
   "execution_count": 50,
   "id": "3c2f2507-b357-4272-adf7-722aba469165",
   "metadata": {
    "tags": []
   },
   "outputs": [
    {
     "data": {
      "text/plain": [
       "4"
      ]
     },
     "execution_count": 50,
     "metadata": {},
     "output_type": "execute_result"
    }
   ],
   "source": [
    "fun3(16)"
   ]
  },
  {
   "cell_type": "code",
   "execution_count": 64,
   "id": "56d4aff4-5c91-4373-8f51-6af9e1a7f271",
   "metadata": {
    "tags": []
   },
   "outputs": [],
   "source": [
    "def fun4(n):\n",
    "    if n == 0:\n",
    "        return\n",
    "    fun4(n//2)\n",
    "    print(n%2)"
   ]
  },
  {
   "cell_type": "code",
   "execution_count": 66,
   "id": "5feed0c4-682c-4781-904b-e6ce26a46773",
   "metadata": {
    "tags": []
   },
   "outputs": [
    {
     "name": "stdout",
     "output_type": "stream",
     "text": [
      "1\n",
      "1\n",
      "0\n",
      "1\n"
     ]
    }
   ],
   "source": [
    "fun4(13)"
   ]
  },
  {
   "cell_type": "code",
   "execution_count": 91,
   "id": "342b01fe-f2ec-4763-a9f8-fbcc85558173",
   "metadata": {
    "tags": []
   },
   "outputs": [],
   "source": [
    "## Print using Recursion in Python"
   ]
  },
  {
   "cell_type": "code",
   "execution_count": 92,
   "id": "c0e0653d-8cda-4a70-b5a8-75b137fd33c4",
   "metadata": {
    "tags": []
   },
   "outputs": [],
   "source": [
    "def print1toN(n):\n",
    "    if n == 0:\n",
    "        return\n",
    "    print1toN(n-1)\n",
    "    print(n)"
   ]
  },
  {
   "cell_type": "code",
   "execution_count": 93,
   "id": "66c23838-f68c-431b-8332-b9babe190e25",
   "metadata": {
    "tags": []
   },
   "outputs": [
    {
     "name": "stdout",
     "output_type": "stream",
     "text": [
      "1\n",
      "2\n",
      "3\n",
      "4\n",
      "5\n",
      "6\n",
      "7\n",
      "8\n",
      "9\n",
      "10\n"
     ]
    }
   ],
   "source": [
    "print1toN(10)"
   ]
  },
  {
   "cell_type": "code",
   "execution_count": 101,
   "id": "11437e67-b8af-4d3e-85e4-33c539b65bb7",
   "metadata": {
    "tags": []
   },
   "outputs": [],
   "source": [
    "def printNto1(n):\n",
    "    if n == 0:\n",
    "        return\n",
    "    print(n)\n",
    "    printNto1(n-1)"
   ]
  },
  {
   "cell_type": "code",
   "execution_count": 102,
   "id": "4771b9e3-b06e-468b-b88e-7010f855872a",
   "metadata": {
    "tags": []
   },
   "outputs": [
    {
     "name": "stdout",
     "output_type": "stream",
     "text": [
      "10\n",
      "9\n",
      "8\n",
      "7\n",
      "6\n",
      "5\n",
      "4\n",
      "3\n",
      "2\n",
      "1\n"
     ]
    }
   ],
   "source": [
    "printNto1(10)"
   ]
  },
  {
   "cell_type": "code",
   "execution_count": 103,
   "id": "9ec3197e-d5cd-47f4-8b9d-0899e3b1faa1",
   "metadata": {
    "tags": []
   },
   "outputs": [],
   "source": [
    "## Sum of digits using Recursion"
   ]
  },
  {
   "cell_type": "code",
   "execution_count": 110,
   "id": "068c954f-0a22-4311-805e-733d665f38a0",
   "metadata": {
    "tags": []
   },
   "outputs": [],
   "source": [
    "def sumOfDigits(n):\n",
    "    if n < 10:\n",
    "        return n\n",
    "    return sumOfDigits(n//10) + n%10"
   ]
  },
  {
   "cell_type": "code",
   "execution_count": 111,
   "id": "9723e654-7037-4a15-bf54-8e6adf407a67",
   "metadata": {
    "tags": []
   },
   "outputs": [
    {
     "data": {
      "text/plain": [
       "10"
      ]
     },
     "execution_count": 111,
     "metadata": {},
     "output_type": "execute_result"
    }
   ],
   "source": [
    "sumOfDigits(145)"
   ]
  },
  {
   "cell_type": "code",
   "execution_count": 112,
   "id": "b767ec58-00e6-4af2-9f15-cec93b24d301",
   "metadata": {
    "tags": []
   },
   "outputs": [],
   "source": [
    "## Palindrome check using recursion"
   ]
  },
  {
   "cell_type": "code",
   "execution_count": 121,
   "id": "f98660d9-506e-4dca-8b8c-ca41b9676cd2",
   "metadata": {
    "tags": []
   },
   "outputs": [],
   "source": [
    "def isPalindrome(string,start,end):\n",
    "    if start>=end:\n",
    "        return True\n",
    "    return (sting[start] == string[end] and isPalindrome(string,start+1,end-1))"
   ]
  },
  {
   "cell_type": "code",
   "execution_count": 123,
   "id": "abcd4ab1-65eb-47fe-8fbb-c0fce68d5206",
   "metadata": {
    "tags": []
   },
   "outputs": [
    {
     "data": {
      "text/plain": [
       "True"
      ]
     },
     "execution_count": 123,
     "metadata": {},
     "output_type": "execute_result"
    }
   ],
   "source": [
    "isPalindrome('abaearbna',0,0)"
   ]
  },
  {
   "cell_type": "code",
   "execution_count": 124,
   "id": "365f6232-d104-4a04-86b6-6efeccf4807a",
   "metadata": {
    "tags": []
   },
   "outputs": [],
   "source": [
    "## Sum of natural numbers using recursion"
   ]
  },
  {
   "cell_type": "code",
   "execution_count": 147,
   "id": "2cdff05d-f659-48d5-949c-655b996d5b82",
   "metadata": {
    "tags": []
   },
   "outputs": [],
   "source": [
    "def sumOfNaturalNumbers(n):\n",
    "    if n == 0 :\n",
    "        return 0\n",
    "    return sumOfNaturalNumbers(n-1) + n"
   ]
  },
  {
   "cell_type": "code",
   "execution_count": 148,
   "id": "5a972940-cb60-4bf8-973b-f2392ec6b69e",
   "metadata": {
    "tags": []
   },
   "outputs": [
    {
     "data": {
      "text/plain": [
       "55"
      ]
     },
     "execution_count": 148,
     "metadata": {},
     "output_type": "execute_result"
    }
   ],
   "source": [
    "sumOfNaturalNumbers(10)"
   ]
  }
 ],
 "metadata": {
  "kernelspec": {
   "display_name": "Python 3 (ipykernel)",
   "language": "python",
   "name": "python3"
  },
  "language_info": {
   "codemirror_mode": {
    "name": "ipython",
    "version": 3
   },
   "file_extension": ".py",
   "mimetype": "text/x-python",
   "name": "python",
   "nbconvert_exporter": "python",
   "pygments_lexer": "ipython3",
   "version": "3.11.4"
  }
 },
 "nbformat": 4,
 "nbformat_minor": 5
}
