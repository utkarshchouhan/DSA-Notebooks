{
 "cells": [
  {
   "cell_type": "markdown",
   "id": "76e017fe-42ab-4138-a6c8-284b2c9106eb",
   "metadata": {
    "tags": []
   },
   "source": [
    "# Lists"
   ]
  },
  {
   "cell_type": "markdown",
   "id": "9ebfb5d7-de88-4c45-9d38-3fdf0dd83f55",
   "metadata": {
    "tags": []
   },
   "source": [
    "## Basic Lists"
   ]
  },
  {
   "cell_type": "markdown",
   "id": "2f141e7a-9d5f-4273-90bb-32f7245f2407",
   "metadata": {},
   "source": [
    "Lists\n",
    "\n",
    "A list is a collection of things, enclosed in [ ] and separated by commas.\n",
    "\n",
    "Advantages of Lists.\n",
    "\n",
    "    - Mutable\n",
    "    \n",
    "    - Dynamic Size\n",
    "    \n",
    "    - Random Access\n",
    "    \n",
    "    - Heterogeneous Elements\n",
    "    \n",
    "    - Ordered\n",
    "    \n",
    "    - Iteration and Indexing\n",
    "    \n",
    "    - Great Inbuilt Functions\n",
    "    \n",
    "    - Cache Friendly\n"
   ]
  },
  {
   "cell_type": "markdown",
   "id": "93d84f07-f1ab-4c29-97c8-2c098b6c4dd0",
   "metadata": {
    "tags": []
   },
   "source": [
    "    \n",
    "Python provides a variety of built-in methods and functions for working with lists. Here is a comprehensive list of methods and functions commonly used with lists:\n",
    "\n",
    "List Methods:\n",
    "1. append(element): Adds an element to the end of the list.\n",
    "2. extend(iterable): Appends elements from an iterable (such as another list) to the end of the list.\n",
    "3. insert(index, element): Inserts an element at a specific position in the list.\n",
    "4. remove(element): Removes the first occurrence of the specified element from the list.\n",
    "5. pop(index): Removes and returns the element at the specified index. If no index is provided, it removes and returns the last element.\n",
    "6. clear(): Removes all elements from the list.\n",
    "7. index(element, start, end): Returns the index of the first occurrence of the specified element within the specified range.\n",
    "8. count(element): Returns the number of occurrences of the specified element in the list.\n",
    "9. sort(key, reverse): Sorts the elements in ascending order. The optional key parameter specifies a custom sorting function, and the reverse parameter determines whether to sort in descending order.\n",
    "10. reverse(): Reverses the order of the elements in the list.\n",
    "11. copy(): Returns a shallow copy of the list.\n",
    "12. len(list): Returns the number of elements in the list.\n",
    "\n",
    "List Functions:\n",
    "1. len(list): Returns the number of elements in the list.\n",
    "2. max(list): Returns the maximum value in the list.\n",
    "3. min(list): Returns the minimum value in the list.\n",
    "4. sum(list): Returns the sum of all elements in the list.\n",
    "5. sorted(iterable, key, reverse): Returns a new sorted list from the elements in the iterable. The optional key parameter specifies a custom sorting function, and the reverse parameter determines whether to sort in descending order.\n",
    "6. any(iterable): Returns True if any element in the iterable is true. Otherwise, it returns False.\n",
    "7. all(iterable): Returns True if all elements in the iterable are true. Otherwise, it returns False.\n",
    "8. enumerate(iterable, start): Returns an iterator of tuples containing the index and value of each element in the iterable. The optional start parameter specifies the starting index."
   ]
  },
  {
   "cell_type": "markdown",
   "id": "c1406377-4889-46b9-aac1-c8eac410a268",
   "metadata": {
    "jp-MarkdownHeadingCollapsed": true,
    "tags": []
   },
   "source": [
    "## Basics of List"
   ]
  },
  {
   "cell_type": "code",
   "execution_count": 1,
   "id": "e4203485-e05a-4b66-aa0e-49d9b7ebff74",
   "metadata": {},
   "outputs": [],
   "source": [
    "l = [10,20,30,40,50]"
   ]
  },
  {
   "cell_type": "code",
   "execution_count": 2,
   "id": "dd890e46-a57f-4259-befc-f61436e8077b",
   "metadata": {
    "tags": []
   },
   "outputs": [],
   "source": [
    "l.append(30)"
   ]
  },
  {
   "cell_type": "code",
   "execution_count": 3,
   "id": "c8cf35e7-0fa5-4fa3-b9ad-c70aa5e7b3e0",
   "metadata": {
    "tags": []
   },
   "outputs": [
    {
     "name": "stdout",
     "output_type": "stream",
     "text": [
      "[10, 20, 30, 40, 50, 30]\n"
     ]
    }
   ],
   "source": [
    "print(l)"
   ]
  },
  {
   "cell_type": "code",
   "execution_count": 4,
   "id": "fa317e35-6f69-4d12-9541-fd3065eb40b2",
   "metadata": {
    "tags": []
   },
   "outputs": [],
   "source": [
    "l.insert(3,80)"
   ]
  },
  {
   "cell_type": "code",
   "execution_count": 5,
   "id": "32070ee0-09bd-4425-9d0f-56e24973c52f",
   "metadata": {
    "tags": []
   },
   "outputs": [
    {
     "data": {
      "text/plain": [
       "[10, 20, 30, 80, 40, 50, 30]"
      ]
     },
     "execution_count": 5,
     "metadata": {},
     "output_type": "execute_result"
    }
   ],
   "source": [
    "l"
   ]
  },
  {
   "cell_type": "code",
   "execution_count": 6,
   "id": "3bdc0d0b-740d-414b-ab3f-d772517d033c",
   "metadata": {
    "tags": []
   },
   "outputs": [
    {
     "data": {
      "text/plain": [
       "2"
      ]
     },
     "execution_count": 6,
     "metadata": {},
     "output_type": "execute_result"
    }
   ],
   "source": [
    "l.count(30)"
   ]
  },
  {
   "cell_type": "code",
   "execution_count": 7,
   "id": "02a13003-4fc8-495c-a561-6a6cea115b76",
   "metadata": {
    "tags": []
   },
   "outputs": [
    {
     "data": {
      "text/plain": [
       "3"
      ]
     },
     "execution_count": 7,
     "metadata": {},
     "output_type": "execute_result"
    }
   ],
   "source": [
    "l.index(80)"
   ]
  },
  {
   "cell_type": "code",
   "execution_count": 8,
   "id": "3867c129-a52d-4af6-afb3-8a03d020875f",
   "metadata": {
    "tags": []
   },
   "outputs": [
    {
     "data": {
      "text/plain": [
       "2"
      ]
     },
     "execution_count": 8,
     "metadata": {},
     "output_type": "execute_result"
    }
   ],
   "source": [
    "l.index(30,2,4) # searches the element between a start and end index."
   ]
  },
  {
   "cell_type": "code",
   "execution_count": 9,
   "id": "64086c0d-0ca1-491c-918e-15d59e2ff5d8",
   "metadata": {
    "tags": []
   },
   "outputs": [],
   "source": [
    "l.remove(20)"
   ]
  },
  {
   "cell_type": "code",
   "execution_count": 10,
   "id": "595b1161-ef7c-4bd7-bd8b-de628222bb1d",
   "metadata": {
    "tags": []
   },
   "outputs": [
    {
     "data": {
      "text/plain": [
       "[10, 30, 80, 40, 50, 30]"
      ]
     },
     "execution_count": 10,
     "metadata": {},
     "output_type": "execute_result"
    }
   ],
   "source": [
    "l"
   ]
  },
  {
   "cell_type": "code",
   "execution_count": 11,
   "id": "20182e00-a3bb-4c03-b475-bbf702f1a355",
   "metadata": {
    "tags": []
   },
   "outputs": [
    {
     "data": {
      "text/plain": [
       "30"
      ]
     },
     "execution_count": 11,
     "metadata": {},
     "output_type": "execute_result"
    }
   ],
   "source": [
    "l.pop() "
   ]
  },
  {
   "cell_type": "code",
   "execution_count": 12,
   "id": "e6d25e6a-2da7-4fba-b0b4-d77eab83aa2f",
   "metadata": {
    "tags": []
   },
   "outputs": [
    {
     "data": {
      "text/plain": [
       "30"
      ]
     },
     "execution_count": 12,
     "metadata": {},
     "output_type": "execute_result"
    }
   ],
   "source": [
    "l.pop(1) # pops at given index "
   ]
  },
  {
   "cell_type": "code",
   "execution_count": 13,
   "id": "be995d27-cdfa-40a2-8958-e7eed5572bcc",
   "metadata": {
    "tags": []
   },
   "outputs": [
    {
     "data": {
      "text/plain": [
       "[10, 80, 40, 50]"
      ]
     },
     "execution_count": 13,
     "metadata": {},
     "output_type": "execute_result"
    }
   ],
   "source": [
    "l"
   ]
  },
  {
   "cell_type": "code",
   "execution_count": 14,
   "id": "b8305aee-f222-41d0-a56e-7911af52a38c",
   "metadata": {
    "tags": []
   },
   "outputs": [],
   "source": [
    "del l[0]"
   ]
  },
  {
   "cell_type": "code",
   "execution_count": 15,
   "id": "038a32bb-5452-4bb5-addd-d680bfa9253f",
   "metadata": {
    "tags": []
   },
   "outputs": [
    {
     "data": {
      "text/plain": [
       "[80, 40, 50]"
      ]
     },
     "execution_count": 15,
     "metadata": {},
     "output_type": "execute_result"
    }
   ],
   "source": [
    "l"
   ]
  },
  {
   "cell_type": "code",
   "execution_count": 16,
   "id": "3e37007f-18cf-43c4-8b09-07a43f81b413",
   "metadata": {
    "tags": []
   },
   "outputs": [],
   "source": [
    "del l[0:2]"
   ]
  },
  {
   "cell_type": "code",
   "execution_count": 17,
   "id": "f58b21ac-21cd-4100-9e9c-4c4b7d6db87e",
   "metadata": {
    "tags": []
   },
   "outputs": [
    {
     "data": {
      "text/plain": [
       "[50]"
      ]
     },
     "execution_count": 17,
     "metadata": {},
     "output_type": "execute_result"
    }
   ],
   "source": [
    "l"
   ]
  },
  {
   "cell_type": "code",
   "execution_count": 18,
   "id": "5b7ddd4f-ea01-44e7-9ded-7110d4ffd27c",
   "metadata": {
    "tags": []
   },
   "outputs": [],
   "source": [
    "l = [10,40,20,50]"
   ]
  },
  {
   "cell_type": "code",
   "execution_count": 19,
   "id": "1bfab1d8-154a-458d-8fc6-c688711ba62f",
   "metadata": {
    "tags": []
   },
   "outputs": [
    {
     "data": {
      "text/plain": [
       "50"
      ]
     },
     "execution_count": 19,
     "metadata": {},
     "output_type": "execute_result"
    }
   ],
   "source": [
    "max(l)"
   ]
  },
  {
   "cell_type": "code",
   "execution_count": 20,
   "id": "826064a8-aac5-419d-8680-18fef599d077",
   "metadata": {
    "tags": []
   },
   "outputs": [
    {
     "data": {
      "text/plain": [
       "10"
      ]
     },
     "execution_count": 20,
     "metadata": {},
     "output_type": "execute_result"
    }
   ],
   "source": [
    "min(l)"
   ]
  },
  {
   "cell_type": "code",
   "execution_count": 21,
   "id": "39d11e47-ff98-4499-ae3b-1fe74945abd8",
   "metadata": {
    "tags": []
   },
   "outputs": [
    {
     "data": {
      "text/plain": [
       "120"
      ]
     },
     "execution_count": 21,
     "metadata": {},
     "output_type": "execute_result"
    }
   ],
   "source": [
    "sum(l)"
   ]
  },
  {
   "cell_type": "code",
   "execution_count": 22,
   "id": "d07e2fee-dc61-421f-abef-1440714277bd",
   "metadata": {
    "tags": []
   },
   "outputs": [],
   "source": [
    "l.reverse()"
   ]
  },
  {
   "cell_type": "code",
   "execution_count": 23,
   "id": "ed322810-de6e-4a50-ba14-d91cb1a6e04f",
   "metadata": {
    "tags": []
   },
   "outputs": [
    {
     "data": {
      "text/plain": [
       "[50, 20, 40, 10]"
      ]
     },
     "execution_count": 23,
     "metadata": {},
     "output_type": "execute_result"
    }
   ],
   "source": [
    "l"
   ]
  },
  {
   "cell_type": "code",
   "execution_count": 24,
   "id": "4722ee7f-ab59-4f5f-9478-19d92f3dbd53",
   "metadata": {
    "tags": []
   },
   "outputs": [],
   "source": [
    "l.sort()"
   ]
  },
  {
   "cell_type": "code",
   "execution_count": 25,
   "id": "2770b130-6d16-432e-a3ec-5db9d3c2364b",
   "metadata": {
    "tags": []
   },
   "outputs": [
    {
     "data": {
      "text/plain": [
       "[10, 20, 40, 50]"
      ]
     },
     "execution_count": 25,
     "metadata": {},
     "output_type": "execute_result"
    }
   ],
   "source": [
    "l"
   ]
  },
  {
   "cell_type": "markdown",
   "id": "8c4de5d0-ea2a-4fe1-95cc-fec8aaf7c028",
   "metadata": {
    "jp-MarkdownHeadingCollapsed": true,
    "tags": []
   },
   "source": [
    "## Find average or mean of a list"
   ]
  },
  {
   "cell_type": "code",
   "execution_count": 26,
   "id": "1618067a-bacc-4e6f-bc9b-b6b8efc0556d",
   "metadata": {
    "tags": []
   },
   "outputs": [],
   "source": [
    "l = [10,20,30,40]"
   ]
  },
  {
   "cell_type": "code",
   "execution_count": 27,
   "id": "d0e9157e-a5f2-47c3-a167-da7a533846c9",
   "metadata": {
    "tags": []
   },
   "outputs": [
    {
     "data": {
      "text/plain": [
       "25.0"
      ]
     },
     "execution_count": 27,
     "metadata": {},
     "output_type": "execute_result"
    }
   ],
   "source": [
    "average = sum(l)/len(l)\n",
    "average"
   ]
  },
  {
   "cell_type": "code",
   "execution_count": 28,
   "id": "91bd7ef8-9c0d-4c79-815d-5de6ad4f9c39",
   "metadata": {
    "tags": []
   },
   "outputs": [],
   "source": [
    "def average(l):\n",
    "    total = 0\n",
    "    for i in l:\n",
    "        total += i\n",
    "    return total/len(l)"
   ]
  },
  {
   "cell_type": "code",
   "execution_count": 29,
   "id": "6d3dad5b-6f44-4d64-a5b2-94f5b6e172c0",
   "metadata": {
    "tags": []
   },
   "outputs": [
    {
     "data": {
      "text/plain": [
       "25.0"
      ]
     },
     "execution_count": 29,
     "metadata": {},
     "output_type": "execute_result"
    }
   ],
   "source": [
    "average(l)"
   ]
  },
  {
   "cell_type": "markdown",
   "id": "4b92f137-41cb-461d-8d1b-e4725c36d548",
   "metadata": {
    "jp-MarkdownHeadingCollapsed": true,
    "tags": []
   },
   "source": [
    "## Separate Even and Odd"
   ]
  },
  {
   "cell_type": "code",
   "execution_count": 30,
   "id": "9d3e7083-00dd-4fd5-b996-ffa4feede823",
   "metadata": {
    "tags": []
   },
   "outputs": [],
   "source": [
    "l = [10,41,30,15,80]"
   ]
  },
  {
   "cell_type": "code",
   "execution_count": 31,
   "id": "a24a2c8b-a65a-4e22-9089-554b2c50ec89",
   "metadata": {
    "tags": []
   },
   "outputs": [],
   "source": [
    "def sep_even_odd(l):\n",
    "    \n",
    "    even_list = []\n",
    "    odd_list = []\n",
    "    \n",
    "    for i in l:\n",
    "        if i%2==0:\n",
    "            even_list.append(i)\n",
    "        else:\n",
    "            odd_list.append(i)\n",
    "    \n",
    "    return even_list,odd_list"
   ]
  },
  {
   "cell_type": "code",
   "execution_count": 32,
   "id": "76dbee08-af2a-4431-96f1-65b78a0fb10e",
   "metadata": {
    "tags": []
   },
   "outputs": [
    {
     "data": {
      "text/plain": [
       "([10, 30, 80], [41, 15])"
      ]
     },
     "execution_count": 32,
     "metadata": {},
     "output_type": "execute_result"
    }
   ],
   "source": [
    "sep_even_odd(l)"
   ]
  },
  {
   "cell_type": "markdown",
   "id": "1f2fd95d-6e84-4df1-b6b7-f9d9ec453039",
   "metadata": {
    "jp-MarkdownHeadingCollapsed": true,
    "tags": []
   },
   "source": [
    "## Get smaller elements"
   ]
  },
  {
   "cell_type": "code",
   "execution_count": 33,
   "id": "76897e2f-c14c-4eb9-9d4d-44da91c78b2e",
   "metadata": {
    "tags": []
   },
   "outputs": [],
   "source": [
    "l = [8,100,20,40,3,7]"
   ]
  },
  {
   "cell_type": "code",
   "execution_count": 34,
   "id": "308623df-506b-4da0-a09e-75f082e514df",
   "metadata": {
    "tags": []
   },
   "outputs": [
    {
     "ename": "SyntaxError",
     "evalue": "invalid syntax (1482054881.py, line 8)",
     "output_type": "error",
     "traceback": [
      "\u001b[0;36m  Cell \u001b[0;32mIn[34], line 8\u001b[0;36m\u001b[0m\n\u001b[0;31m    ans = [ans+=x for x in l]\u001b[0m\n\u001b[0m              ^\u001b[0m\n\u001b[0;31mSyntaxError\u001b[0m\u001b[0;31m:\u001b[0m invalid syntax\n"
     ]
    }
   ],
   "source": [
    "def get_smaller_element(l,n):\n",
    "    ''' Arguments : \n",
    "    l : list of elements.\n",
    "    n : given maximum number\n",
    "    \n",
    "    returns a list of elements present in l which less than n'''\n",
    "    \n",
    "    ans = [ans+=x for x in l]\n",
    "            \n",
    "    if len(ans) > 0:\n",
    "        return ans\n",
    "    else:\n",
    "        return 'No Such Element Found'"
   ]
  },
  {
   "cell_type": "code",
   "execution_count": null,
   "id": "be2dc44e-8801-41c2-b9c3-d26a61bc16b3",
   "metadata": {
    "tags": []
   },
   "outputs": [],
   "source": [
    "get_smaller_element(l,1)"
   ]
  },
  {
   "cell_type": "markdown",
   "id": "344d5488-4ce7-4207-84b8-c8b215a3a64b",
   "metadata": {
    "jp-MarkdownHeadingCollapsed": true,
    "tags": []
   },
   "source": [
    "## Slicing"
   ]
  },
  {
   "cell_type": "code",
   "execution_count": null,
   "id": "275567dd-5eff-4413-9abe-0a12838ecbad",
   "metadata": {
    "tags": []
   },
   "outputs": [],
   "source": [
    "l = [10,20,30,40,50]"
   ]
  },
  {
   "cell_type": "code",
   "execution_count": null,
   "id": "dee3b7a6-5ce5-4fd0-8073-3679b4c31580",
   "metadata": {
    "tags": []
   },
   "outputs": [],
   "source": [
    "print(l[2])"
   ]
  },
  {
   "cell_type": "code",
   "execution_count": null,
   "id": "d486f0d6-179b-492e-8863-a7b68cdd3833",
   "metadata": {
    "tags": []
   },
   "outputs": [],
   "source": [
    "print(l[0:4])"
   ]
  },
  {
   "cell_type": "code",
   "execution_count": null,
   "id": "25c71812-9a30-4bee-9f0a-5cb7404d6c2b",
   "metadata": {
    "tags": []
   },
   "outputs": [],
   "source": [
    "print(l[0:5:2])"
   ]
  },
  {
   "cell_type": "code",
   "execution_count": null,
   "id": "2dbef659-e434-43dc-aabb-72855946d3dc",
   "metadata": {
    "tags": []
   },
   "outputs": [],
   "source": [
    "print(l[:3])"
   ]
  },
  {
   "cell_type": "code",
   "execution_count": null,
   "id": "f542510f-1c64-4d78-a0f1-a36e10714441",
   "metadata": {
    "tags": []
   },
   "outputs": [],
   "source": [
    "print(l[3:])"
   ]
  },
  {
   "cell_type": "code",
   "execution_count": null,
   "id": "6cdf6d44-3a47-49ff-9686-8f48f5252e44",
   "metadata": {
    "tags": []
   },
   "outputs": [],
   "source": [
    "print(l[-1])"
   ]
  },
  {
   "cell_type": "code",
   "execution_count": null,
   "id": "bcaec9e9-9b6a-45ca-a2ff-ed63433a04d6",
   "metadata": {
    "tags": []
   },
   "outputs": [],
   "source": [
    "print(l[4:0:-1])"
   ]
  },
  {
   "cell_type": "code",
   "execution_count": null,
   "id": "5c81ad02-57f2-4943-8666-0438fd7a77fa",
   "metadata": {
    "tags": []
   },
   "outputs": [],
   "source": [
    "print(l[::-1])"
   ]
  },
  {
   "cell_type": "code",
   "execution_count": null,
   "id": "ef1cfd81-6382-45b9-8fcb-b1a3549ac7ba",
   "metadata": {
    "tags": []
   },
   "outputs": [],
   "source": [
    "print(l[:])"
   ]
  },
  {
   "cell_type": "code",
   "execution_count": null,
   "id": "4ea616df-bbb1-4820-afe3-fa54c82f69d6",
   "metadata": {
    "tags": []
   },
   "outputs": [],
   "source": [
    "l1 = [10,20,30]\n",
    "l2 = l1[:]"
   ]
  },
  {
   "cell_type": "code",
   "execution_count": null,
   "id": "f2f406b8-fe1a-4574-9b90-00c5b8e67ce4",
   "metadata": {
    "tags": []
   },
   "outputs": [],
   "source": [
    "l1 is l2"
   ]
  },
  {
   "cell_type": "code",
   "execution_count": null,
   "id": "5df164ab-2cb9-41df-9c2c-3883e8afb65b",
   "metadata": {
    "tags": []
   },
   "outputs": [],
   "source": [
    "l1 = {10,20,30}\n",
    "l2 = l1"
   ]
  },
  {
   "cell_type": "code",
   "execution_count": null,
   "id": "069d3fad-3a4b-48f0-b976-4377e9c9bb75",
   "metadata": {
    "tags": []
   },
   "outputs": [],
   "source": [
    "l1 is l2"
   ]
  },
  {
   "cell_type": "markdown",
   "id": "37cc4cd2-f5e2-4826-82c0-2061c6c1f32a",
   "metadata": {
    "jp-MarkdownHeadingCollapsed": true,
    "tags": []
   },
   "source": [
    "## Comprehension in python"
   ]
  },
  {
   "cell_type": "code",
   "execution_count": null,
   "id": "59b82a27-f970-4106-8da1-373a38eee547",
   "metadata": {
    "tags": []
   },
   "outputs": [],
   "source": [
    "l1 = [x for x in range(11) if x % 2 == 0]"
   ]
  },
  {
   "cell_type": "code",
   "execution_count": null,
   "id": "518a95f2-a302-4299-9d9b-7baf3d96c3a5",
   "metadata": {
    "tags": []
   },
   "outputs": [],
   "source": [
    "l2 = [x for x in range(11) if x % 2 != 0]"
   ]
  },
  {
   "cell_type": "code",
   "execution_count": null,
   "id": "1004bcb1-262f-4361-8508-13cfbb745a47",
   "metadata": {
    "tags": []
   },
   "outputs": [],
   "source": [
    "def getsmaller(l,x):\n",
    "    return [e for e in l if e < x]"
   ]
  },
  {
   "cell_type": "code",
   "execution_count": null,
   "id": "fd2c508e-cfc9-4782-a5bf-808772024217",
   "metadata": {
    "tags": []
   },
   "outputs": [],
   "source": [
    "l = [1,5,3,10,24,32,55]"
   ]
  },
  {
   "cell_type": "code",
   "execution_count": null,
   "id": "a5443815-035b-445e-99b5-67a280b803fc",
   "metadata": {
    "tags": []
   },
   "outputs": [],
   "source": [
    "getsmaller(l,10)"
   ]
  },
  {
   "cell_type": "code",
   "execution_count": null,
   "id": "e9216026-171b-4a3b-9b62-d4d91be53450",
   "metadata": {
    "tags": []
   },
   "outputs": [],
   "source": [
    "def getEvenOdd(l):\n",
    "    even = [x for x in range(11) if x % 2 == 0]\n",
    "    odd = [x for x in range(11) if x % 2 != 0]\n",
    "    return even, odd"
   ]
  },
  {
   "cell_type": "code",
   "execution_count": null,
   "id": "513a471d-9381-44a4-a055-15137f2d9221",
   "metadata": {
    "tags": []
   },
   "outputs": [],
   "source": [
    "getEvenOdd(l)"
   ]
  },
  {
   "cell_type": "code",
   "execution_count": null,
   "id": "9897d83a-0929-406b-8ba9-8461b6e87611",
   "metadata": {
    "tags": []
   },
   "outputs": [],
   "source": [
    "s = \"geeksforgeeks\"\n",
    "l1 = [x for x in s if x in \"aeiou\"]"
   ]
  },
  {
   "cell_type": "code",
   "execution_count": null,
   "id": "c0066f99-0a14-4ead-9997-15207c82b4cb",
   "metadata": {
    "tags": []
   },
   "outputs": [],
   "source": [
    "print(l1)"
   ]
  },
  {
   "cell_type": "code",
   "execution_count": null,
   "id": "2ad4e2eb-70ec-484f-ba53-42349f7b7ae4",
   "metadata": {
    "tags": []
   },
   "outputs": [],
   "source": [
    "l2 = [\"geeks\", \"ide\", \"courses\", \"gfg\"]\n",
    "l3 = [x for x in l2 if x.startswith('g')]\n",
    "print(l3)"
   ]
  },
  {
   "cell_type": "code",
   "execution_count": null,
   "id": "dd307e2c-7a99-40ce-bc5d-ea2c257c2523",
   "metadata": {
    "tags": []
   },
   "outputs": [],
   "source": [
    "l4 = [x*2 for x in range(5)]"
   ]
  },
  {
   "cell_type": "code",
   "execution_count": null,
   "id": "7abae71f-5bae-4df1-9fcb-6a2f45bcaf6c",
   "metadata": {
    "tags": []
   },
   "outputs": [],
   "source": [
    "l4"
   ]
  },
  {
   "cell_type": "code",
   "execution_count": 2,
   "id": "f4134a22-ae1d-4d38-b816-0bd1f36a1a85",
   "metadata": {
    "tags": []
   },
   "outputs": [
    {
     "name": "stdout",
     "output_type": "stream",
     "text": [
      "{10, 20, 4} {3, 7}\n"
     ]
    }
   ],
   "source": [
    "# Set Comprehensions\n",
    "l = [10,20,3,4,10,20,7,3]\n",
    "s1 = {x for x in l if x % 2 == 0}\n",
    "s2 = {x for x in l if x % 2 != 0}\n",
    "print(s1,s2)"
   ]
  },
  {
   "cell_type": "code",
   "execution_count": 4,
   "id": "b6135246-efe2-49e7-8a25-6afc0309fca7",
   "metadata": {
    "tags": []
   },
   "outputs": [
    {
     "data": {
      "text/plain": [
       "{1: 3, 3: 9, 4: 12, 2: 6, 5: 15}"
      ]
     },
     "execution_count": 4,
     "metadata": {},
     "output_type": "execute_result"
    }
   ],
   "source": [
    "# Dictonary Comprehension\n",
    "l1 = [1,3,4,2,5]\n",
    "d1 = {x:x*3 for x in l1}\n",
    "d1"
   ]
  },
  {
   "cell_type": "code",
   "execution_count": 6,
   "id": "b39dd9e2-d7c1-4746-92b9-69a68ea4ce15",
   "metadata": {
    "tags": []
   },
   "outputs": [
    {
     "data": {
      "text/plain": [
       "{0: 'ID0', 1: 'ID1', 2: 'ID2', 3: 'ID3', 4: 'ID4'}"
      ]
     },
     "execution_count": 6,
     "metadata": {},
     "output_type": "execute_result"
    }
   ],
   "source": [
    "d2 = {x:f\"ID{x}\" for x in range(5)}\n",
    "d2"
   ]
  },
  {
   "cell_type": "code",
   "execution_count": 8,
   "id": "5b1798a0-36dc-4d4a-a44b-5fc599bdaa68",
   "metadata": {
    "tags": []
   },
   "outputs": [
    {
     "data": {
      "text/plain": [
       "{101: 'gfg', 103: 'ide', 102: 'courses'}"
      ]
     },
     "execution_count": 8,
     "metadata": {},
     "output_type": "execute_result"
    }
   ],
   "source": [
    "l2 = [101,103,102]\n",
    "l3 = [\"gfg\" , \"ide\", \"courses\"]\n",
    "d3 = {l2[i]:l3[i] for i in range(len(l2))}\n",
    "d3"
   ]
  },
  {
   "cell_type": "code",
   "execution_count": 10,
   "id": "ac340c4c-a086-45de-bbf9-25d66af29dbb",
   "metadata": {
    "tags": []
   },
   "outputs": [
    {
     "name": "stdout",
     "output_type": "stream",
     "text": [
      "[101, 103, 102]\n",
      "['gfg', 'ide', 'courses']\n"
     ]
    },
    {
     "data": {
      "text/plain": [
       "{101: 'gfg', 103: 'ide', 102: 'courses'}"
      ]
     },
     "execution_count": 10,
     "metadata": {},
     "output_type": "execute_result"
    }
   ],
   "source": [
    "# Creating Dictonary from 2 lists.\n",
    "print(l2)\n",
    "print(l3)\n",
    "d4 = dict(zip(l2,l3))\n",
    "d4"
   ]
  },
  {
   "cell_type": "code",
   "execution_count": 12,
   "id": "3ed3e0f7-0ba1-4271-b994-44388ad8c2cd",
   "metadata": {
    "tags": []
   },
   "outputs": [
    {
     "name": "stdout",
     "output_type": "stream",
     "text": [
      "{1: 3, 3: 9, 4: 12, 2: 6, 5: 15}\n"
     ]
    },
    {
     "data": {
      "text/plain": [
       "{3: 1, 9: 3, 12: 4, 6: 2, 15: 5}"
      ]
     },
     "execution_count": 12,
     "metadata": {},
     "output_type": "execute_result"
    }
   ],
   "source": [
    "# Inverting a dictonary. K\n",
    "print(d1)\n",
    "d2 = {v:k for (k,v) in d1.items()}\n",
    "d2"
   ]
  },
  {
   "cell_type": "markdown",
   "id": "85108e3b-6095-45f9-8e4a-979d9ceea295",
   "metadata": {
    "jp-MarkdownHeadingCollapsed": true,
    "tags": []
   },
   "source": [
    "## Largest element in a list"
   ]
  },
  {
   "cell_type": "code",
   "execution_count": null,
   "id": "6841865a-82f0-4663-bd01-504b1152dee8",
   "metadata": {
    "tags": []
   },
   "outputs": [],
   "source": [
    "l = [10,5,20,8]"
   ]
  },
  {
   "cell_type": "code",
   "execution_count": null,
   "id": "38a4ac55-4f90-45a3-8626-47321f34e960",
   "metadata": {
    "tags": []
   },
   "outputs": [],
   "source": [
    "max(l)"
   ]
  },
  {
   "cell_type": "code",
   "execution_count": null,
   "id": "bcb88062-3919-4924-90b7-bb4130169776",
   "metadata": {
    "tags": []
   },
   "outputs": [],
   "source": [
    "def max_of_list(l):\n",
    "    large = l[0]\n",
    "    for i in range(len(l)):\n",
    "        if l[i] > l[0]:\n",
    "            large = l[i]\n",
    "    return large"
   ]
  },
  {
   "cell_type": "code",
   "execution_count": null,
   "id": "d30b33dc-f353-4028-bda6-f62e5c98fc28",
   "metadata": {
    "tags": []
   },
   "outputs": [],
   "source": [
    "max_of_list(l)"
   ]
  },
  {
   "cell_type": "code",
   "execution_count": null,
   "id": "dfdeea30-c687-4ecc-adae-abecb8f3a3e0",
   "metadata": {
    "tags": []
   },
   "outputs": [],
   "source": [
    "def sec_largest(l):\n",
    "    large = l[0]\n",
    "    sec_large = None\n",
    "    for i in range(len(l)):\n",
    "        if l[i] > large:\n",
    "            sec_large = large\n",
    "            large = l[i]\n",
    "    return large , sec_large"
   ]
  },
  {
   "cell_type": "code",
   "execution_count": null,
   "id": "64617172-e72b-4c83-8ef2-68829e808329",
   "metadata": {
    "tags": []
   },
   "outputs": [],
   "source": [
    "sec_largest(l)"
   ]
  },
  {
   "cell_type": "markdown",
   "id": "6cb338d8-7b56-4b18-b04a-d762d60e583c",
   "metadata": {
    "jp-MarkdownHeadingCollapsed": true,
    "tags": []
   },
   "source": [
    "## Check if a list is sorted"
   ]
  },
  {
   "cell_type": "code",
   "execution_count": null,
   "id": "25660e96-c118-4638-81e6-57124c368340",
   "metadata": {
    "tags": []
   },
   "outputs": [],
   "source": [
    "def is_sorted(l):\n",
    "    if l[0]>l[1]:\n",
    "        for i in range(len(l)-1):\n",
    "            if l[i] < l[i+1]:\n",
    "                return 'Not sorted'\n",
    "    else:\n",
    "        for i in range(len(l)-1):\n",
    "            if l[i] > l[i+1]:\n",
    "                return 'Not sorted'\n",
    "    return 'sorted'"
   ]
  },
  {
   "cell_type": "code",
   "execution_count": null,
   "id": "c6c71192-38cd-4cf4-b530-f6e951b3e534",
   "metadata": {
    "tags": []
   },
   "outputs": [],
   "source": [
    "a = [10,11,18,191,189]"
   ]
  },
  {
   "cell_type": "code",
   "execution_count": null,
   "id": "235af24e-21ae-405c-81e0-6558a3fa55f7",
   "metadata": {
    "tags": []
   },
   "outputs": [],
   "source": [
    "b = a[::-1]"
   ]
  },
  {
   "cell_type": "code",
   "execution_count": null,
   "id": "985e0e18-0f58-4644-a0b6-0a57f54e7260",
   "metadata": {
    "tags": []
   },
   "outputs": [],
   "source": [
    "is_sorted(a)"
   ]
  },
  {
   "cell_type": "markdown",
   "id": "e793e9b0-9817-401b-98ae-4f2b19763c86",
   "metadata": {
    "jp-MarkdownHeadingCollapsed": true,
    "tags": []
   },
   "source": [
    "## Reverse a list"
   ]
  },
  {
   "cell_type": "code",
   "execution_count": null,
   "id": "ab3210fa-9f81-4532-a93e-09f9232526e7",
   "metadata": {
    "tags": []
   },
   "outputs": [],
   "source": [
    "l = [10,20,30,40]"
   ]
  },
  {
   "cell_type": "code",
   "execution_count": null,
   "id": "3b061a75-3011-4085-aab0-2390ef8d7be8",
   "metadata": {
    "tags": []
   },
   "outputs": [],
   "source": [
    "l.reverse()            #using library method.  reverse method is only applicable on list and non other.\n",
    "l"
   ]
  },
  {
   "cell_type": "code",
   "execution_count": null,
   "id": "257c1d0e-5514-4a13-82f4-dd9886dbea11",
   "metadata": {
    "tags": []
   },
   "outputs": [],
   "source": [
    "m = list(reversed(l))    #creates a new list of reversed elements"
   ]
  },
  {
   "cell_type": "code",
   "execution_count": null,
   "id": "5941f088-4371-4ad3-b749-f891f5e3f1e6",
   "metadata": {
    "tags": []
   },
   "outputs": [],
   "source": [
    "m"
   ]
  },
  {
   "cell_type": "code",
   "execution_count": null,
   "id": "986974d3-ed81-4584-bbd6-de7a8b23bc15",
   "metadata": {
    "tags": []
   },
   "outputs": [],
   "source": [
    "l"
   ]
  },
  {
   "cell_type": "code",
   "execution_count": null,
   "id": "a265b07d-60ca-48d8-8540-36a6c8ae42a8",
   "metadata": {
    "tags": []
   },
   "outputs": [],
   "source": [
    "n = l[::-1]           # using slicing"
   ]
  },
  {
   "cell_type": "code",
   "execution_count": null,
   "id": "edf75714-45e8-4cff-a70e-1f071d4128f8",
   "metadata": {
    "tags": []
   },
   "outputs": [],
   "source": [
    "n"
   ]
  },
  {
   "cell_type": "code",
   "execution_count": null,
   "id": "db44f0d1-9a24-4af8-9049-696dfbe8d8ea",
   "metadata": {
    "tags": []
   },
   "outputs": [],
   "source": [
    "def reverser(l):\n",
    "    rev_list = []\n",
    "    for i in range(1,len(l)+1):\n",
    "        rev_list.append(l[-i])\n",
    "    return rev_list"
   ]
  },
  {
   "cell_type": "code",
   "execution_count": null,
   "id": "9f05cc33-a8ea-4a91-92ba-336a20a39a5f",
   "metadata": {
    "tags": []
   },
   "outputs": [],
   "source": [
    "print(l)\n",
    "reverser(l)"
   ]
  },
  {
   "cell_type": "code",
   "execution_count": null,
   "id": "1fe8acd6-0145-4b89-884f-77a8f1c960a5",
   "metadata": {
    "tags": []
   },
   "outputs": [],
   "source": [
    "def revlist(l):\n",
    "    s = 0\n",
    "    e = len(l)-1\n",
    "    while s < e:\n",
    "        l[s],l[e] == l[e], l [s]\n",
    "        s += 1\n",
    "        e -= 1"
   ]
  },
  {
   "cell_type": "code",
   "execution_count": null,
   "id": "401d6e5f-828c-4da6-b86f-9fa53ef15fd9",
   "metadata": {
    "tags": []
   },
   "outputs": [],
   "source": [
    "print(l)\n",
    "revlist(l)"
   ]
  },
  {
   "cell_type": "code",
   "execution_count": null,
   "id": "9894f860-0161-40f4-bed5-8b78aa2a4aa1",
   "metadata": {
    "tags": []
   },
   "outputs": [],
   "source": [
    "print(l)"
   ]
  },
  {
   "cell_type": "markdown",
   "id": "e0b331a4-1fb1-4cce-9a33-9d7ed775f5c7",
   "metadata": {
    "jp-MarkdownHeadingCollapsed": true,
    "tags": []
   },
   "source": [
    "## Remove Duplicates from a sorted array."
   ]
  },
  {
   "cell_type": "code",
   "execution_count": 57,
   "id": "073a8a7f-d267-40cf-a5f3-5d3133b63bc1",
   "metadata": {
    "tags": []
   },
   "outputs": [
    {
     "name": "stdout",
     "output_type": "stream",
     "text": [
      "[10, 43, 12, 19, 24, 25, 28]\n"
     ]
    }
   ],
   "source": [
    "# By converting to a set and back.\n",
    "l = [10,12,24,10,28,19,43,25,24,10]\n",
    "l = list(set(l))\n",
    "print(l)"
   ]
  },
  {
   "cell_type": "code",
   "execution_count": 41,
   "id": "62d0d8bb-a18d-485a-b754-669acbf18a62",
   "metadata": {
    "tags": []
   },
   "outputs": [],
   "source": [
    "def remove_duplicates(l):\n",
    "    new_arr = []\n",
    "    for i in l:\n",
    "        if i not in new_arr:\n",
    "            new_arr.append(i)\n",
    "    \n",
    "    l = new_arr\n",
    "    del[new_arr]\n",
    "    \n",
    "    return l"
   ]
  },
  {
   "cell_type": "code",
   "execution_count": 42,
   "id": "47620ecf-a28f-4fb0-933e-7259966a1270",
   "metadata": {
    "tags": []
   },
   "outputs": [],
   "source": [
    "l = [10,12,24,10,28,19,43,25,24,10]"
   ]
  },
  {
   "cell_type": "code",
   "execution_count": 43,
   "id": "3c3879c7-85ee-422d-bd11-1439cddc6b68",
   "metadata": {
    "tags": []
   },
   "outputs": [
    {
     "data": {
      "text/plain": [
       "[10, 12, 24, 28, 19, 43, 25]"
      ]
     },
     "execution_count": 43,
     "metadata": {},
     "output_type": "execute_result"
    }
   ],
   "source": [
    "remove_duplicates(l)"
   ]
  },
  {
   "cell_type": "code",
   "execution_count": 45,
   "id": "d13c1f23-9d7f-47fa-8c67-1de02121c11f",
   "metadata": {
    "tags": []
   },
   "outputs": [],
   "source": [
    "# optimized approach\n",
    "\n",
    "def remove_duplicates_2(arr):\n",
    "    n = len(arr)\n",
    "    res = 1\n",
    "    for i in range(1,n):\n",
    "        if arr[res-1] != arr[i]:\n",
    "            \n",
    "            arr[res] = arr[i]\n",
    "            res += 1\n",
    "    return res"
   ]
  },
  {
   "cell_type": "code",
   "execution_count": 46,
   "id": "96aaf6bd-8866-4eb1-9496-223f4df6e5b3",
   "metadata": {
    "tags": []
   },
   "outputs": [],
   "source": [
    "l = [10,12,24,10,28,19,43,25,24,10]"
   ]
  },
  {
   "cell_type": "code",
   "execution_count": 47,
   "id": "84d83aea-5850-4919-bb17-ff668b3bc421",
   "metadata": {
    "tags": []
   },
   "outputs": [
    {
     "data": {
      "text/plain": [
       "10"
      ]
     },
     "execution_count": 47,
     "metadata": {},
     "output_type": "execute_result"
    }
   ],
   "source": [
    "remove_duplicates_2(l)"
   ]
  },
  {
   "cell_type": "markdown",
   "id": "644c628b-fe16-463e-87f8-9653d4107bd0",
   "metadata": {
    "jp-MarkdownHeadingCollapsed": true,
    "tags": []
   },
   "source": [
    "## Left Rotate a List by One"
   ]
  },
  {
   "cell_type": "code",
   "execution_count": 52,
   "id": "23111371-2ea9-4065-b10e-f8051921c91b",
   "metadata": {
    "tags": []
   },
   "outputs": [
    {
     "name": "stdout",
     "output_type": "stream",
     "text": [
      "[20, 30, 40, 10]\n"
     ]
    }
   ],
   "source": [
    "# Using Direct Methods\n",
    "\n",
    "# Using list slicing.\n",
    "l = [10,20,30,40]\n",
    "m = l[1:] + l[:1]\n",
    "print(m)"
   ]
  },
  {
   "cell_type": "code",
   "execution_count": 54,
   "id": "b02dc2ce-5341-4316-94f8-f9f4e5089b6b",
   "metadata": {
    "tags": []
   },
   "outputs": [
    {
     "name": "stdout",
     "output_type": "stream",
     "text": [
      "[20, 30, 40, 10]\n"
     ]
    }
   ],
   "source": [
    "# Using append and pop functions\n",
    "l = [10,20,30,40]\n",
    "l.append(l.pop(0))\n",
    "print(l)"
   ]
  },
  {
   "cell_type": "code",
   "execution_count": 55,
   "id": "7c312449-8a85-494c-b53c-26bce2f613f2",
   "metadata": {
    "tags": []
   },
   "outputs": [],
   "source": [
    "# Using own logic\n",
    "def rotateByOne(l):\n",
    "    n = len(l)\n",
    "    x = l[0]\n",
    "    for i in range(1,n):\n",
    "        l[i-1] = l[i]\n",
    "    l[n-1] = x"
   ]
  },
  {
   "cell_type": "markdown",
   "id": "8d6ea793-259a-4e76-8634-baa8630bfc49",
   "metadata": {
    "jp-MarkdownHeadingCollapsed": true,
    "tags": []
   },
   "source": [
    "## One Odd Occurring\n",
    "\n",
    "Given an array of positive integers. All numbers occur an even number of times except one number which occurs an odd number of times. Find the number in O(n) time & constant space."
   ]
  },
  {
   "cell_type": "markdown",
   "id": "629cf378-ca33-4a97-a0c7-395fcfd7c2ec",
   "metadata": {},
   "source": [
    "The Best Solution is to do bitwise XOR of all the elements. XOR of all elements gives us odd occurring elements. \n",
    "\n",
    "Here ^ is the XOR operators;\n",
    "Note :\n",
    "x^0 = x\n",
    "x^y=y^x (Commutative property holds)\n",
    "(x^y)^z = x^(y^z) (Distributive property holds)\n",
    "x^x=0"
   ]
  },
  {
   "cell_type": "code",
   "execution_count": 58,
   "id": "facbbc5a-467d-44fb-980d-d269fa80b6d9",
   "metadata": {
    "tags": []
   },
   "outputs": [],
   "source": [
    "def getOddOccurrence(arr):\n",
    "\n",
    "\t# Initialize result\n",
    "\tres = 0\n",
    "\t\n",
    "\t# Traverse the array\n",
    "\tfor element in arr:\n",
    "\t\t# XOR with the result\n",
    "\t\tres = res ^ element\n",
    "\n",
    "\treturn res"
   ]
  },
  {
   "cell_type": "code",
   "execution_count": 59,
   "id": "5cf57d00-0bc5-41bb-8ff7-c801578c61c8",
   "metadata": {
    "tags": []
   },
   "outputs": [
    {
     "name": "stdout",
     "output_type": "stream",
     "text": [
      "5\n"
     ]
    }
   ],
   "source": [
    "# Test array\n",
    "arr = [ 2, 3, 5, 4, 5, 2, 4, 3, 5, 2, 4, 4, 2]\n",
    "\n",
    "print(\"%d\" % getOddOccurrence(arr))"
   ]
  },
  {
   "cell_type": "markdown",
   "id": "65f8c699-644c-4e3b-b46d-b55807821849",
   "metadata": {},
   "source": [
    "## Questions"
   ]
  },
  {
   "cell_type": "code",
   "execution_count": 51,
   "id": "5897b631-6c41-4986-92fc-a0935deb472d",
   "metadata": {
    "tags": []
   },
   "outputs": [],
   "source": [
    "def rotateArr(arr,n,d):\n",
    "    arr = arr[1:d:-1] + arr[d+1:n:-1]\n",
    "    return arr"
   ]
  },
  {
   "cell_type": "code",
   "execution_count": 52,
   "id": "5faca432-ec54-458f-98bc-a12de4b6bcb1",
   "metadata": {
    "tags": []
   },
   "outputs": [
    {
     "data": {
      "text/plain": [
       "[]"
      ]
     },
     "execution_count": 52,
     "metadata": {},
     "output_type": "execute_result"
    }
   ],
   "source": [
    "rotateArr(n = 5 ,d = 2, arr = [1,2,3,4,5])"
   ]
  },
  {
   "cell_type": "code",
   "execution_count": null,
   "id": "0f15efde-0138-40ab-9622-b11d89a7b4d3",
   "metadata": {},
   "outputs": [],
   "source": []
  }
 ],
 "metadata": {
  "kernelspec": {
   "display_name": "Python 3 (ipykernel)",
   "language": "python",
   "name": "python3"
  },
  "language_info": {
   "codemirror_mode": {
    "name": "ipython",
    "version": 3
   },
   "file_extension": ".py",
   "mimetype": "text/x-python",
   "name": "python",
   "nbconvert_exporter": "python",
   "pygments_lexer": "ipython3",
   "version": "3.11.4"
  }
 },
 "nbformat": 4,
 "nbformat_minor": 5
}
