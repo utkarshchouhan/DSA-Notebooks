{
 "cells": [
  {
   "cell_type": "markdown",
   "id": "9d40f284-4c70-41d9-a425-2e1c9b944d06",
   "metadata": {},
   "source": [
    "# Strings\n",
    "\n",
    "- Sequence of Characters\n",
    "- Used to store text data, like data read from a file.\n",
    "- Typically Small Set of characters.\n",
    "- Characters 'A' to 'Z' are stored as values from 65 to 90.\n",
    "- Characters 'a' to 'z' are stored as values from 91 to 122.\n",
    "- There is no char datatype in Python. So, a single character is just a string with a single character."
   ]
  },
  {
   "cell_type": "markdown",
   "id": "8c9666d8-0b49-4072-b4dd-2d155e5a52ff",
   "metadata": {},
   "source": [
    "Strings in Python"
   ]
  },
  {
   "cell_type": "code",
   "execution_count": 10,
   "id": "fa40b3c5-75be-4c1e-9f00-f5bd82f944fe",
   "metadata": {},
   "outputs": [
    {
     "name": "stdout",
     "output_type": "stream",
     "text": [
      "97\n",
      "67\n"
     ]
    }
   ],
   "source": [
    "# ord() function\n",
    "\n",
    "print(ord(\"a\")) \n",
    "print(ord(\"C\"))\n",
    "# ord() function gives the integer representation \n",
    "# of a single character. E.g - 'a' will return 97"
   ]
  },
  {
   "cell_type": "code",
   "execution_count": 18,
   "id": "bc1575bd-d534-4aac-98d3-d85284cefa5e",
   "metadata": {},
   "outputs": [
    {
     "name": "stdout",
     "output_type": "stream",
     "text": [
      "c\n",
      "A\n"
     ]
    }
   ],
   "source": [
    "# chr() function\n",
    "\n",
    "print(chr(99))\n",
    "print(chr(65))\n",
    "\n",
    "# chr() function is the counter function of ord() \n",
    "# and returns the character representation of a given integer."
   ]
  },
  {
   "cell_type": "code",
   "execution_count": 24,
   "id": "65837598-9dc4-439d-ac99-03f5fa6a0ba6",
   "metadata": {},
   "outputs": [
    {
     "name": "stdout",
     "output_type": "stream",
     "text": [
      "geek\n",
      "e\n",
      "k\n",
      "g\n",
      "e\n"
     ]
    }
   ],
   "source": [
    "# Strings are iteratable.\n",
    "# Like list we can use indexing to navigate through lists.\n",
    "s = \"geek\"\n",
    "print(s)\n",
    "print(s[-2])\n",
    "print(s[-1])\n",
    "print(s[0])\n",
    "print(s[1])"
   ]
  },
  {
   "cell_type": "code",
   "execution_count": 26,
   "id": "217f0114-e1c9-465b-ba02-18a83cd026d4",
   "metadata": {},
   "outputs": [
    {
     "ename": "TypeError",
     "evalue": "'str' object does not support item assignment",
     "output_type": "error",
     "traceback": [
      "\u001b[0;31m---------------------------------------------------------------------------\u001b[0m",
      "\u001b[0;31mTypeError\u001b[0m                                 Traceback (most recent call last)",
      "Cell \u001b[0;32mIn[26], line 5\u001b[0m\n\u001b[1;32m      1\u001b[0m \u001b[38;5;66;03m# Strings are immutable.\u001b[39;00m\n\u001b[1;32m      2\u001b[0m \u001b[38;5;66;03m# We cannot assign a value using a string index. It will cause an error.\u001b[39;00m\n\u001b[1;32m      4\u001b[0m s \u001b[38;5;241m=\u001b[39m \u001b[38;5;124m\"\u001b[39m\u001b[38;5;124mgeek\u001b[39m\u001b[38;5;124m\"\u001b[39m\n\u001b[0;32m----> 5\u001b[0m \u001b[43ms\u001b[49m\u001b[43m[\u001b[49m\u001b[38;5;241;43m0\u001b[39;49m\u001b[43m]\u001b[49m \u001b[38;5;241m=\u001b[39m \u001b[38;5;124m\"\u001b[39m\u001b[38;5;124me\u001b[39m\u001b[38;5;124m\"\u001b[39m\n\u001b[1;32m      6\u001b[0m \u001b[38;5;28mprint\u001b[39m(s)\n",
      "\u001b[0;31mTypeError\u001b[0m: 'str' object does not support item assignment"
     ]
    }
   ],
   "source": [
    "# Strings are immutable.\n",
    "# We cannot assign a value using a string index. It will cause an error.\n",
    "\n",
    "s = \"geek\"\n",
    "s[0] = \"e\"\n",
    "print(s)"
   ]
  },
  {
   "cell_type": "code",
   "execution_count": 30,
   "id": "2de90521-7c43-4625-a14a-9292ee61612e",
   "metadata": {},
   "outputs": [
    {
     "name": "stdout",
     "output_type": "stream",
     "text": [
      "Hallo,\n",
      "Mein name ist Utkarsh Chouhan.\n",
      "Ich komme aus Indien.\n",
      "Ich lebe in New Delhi.\n",
      "Und ich bin Student.\n"
     ]
    }
   ],
   "source": [
    "# Triple quoted strings in Python. Both single and double quotes are fine.\n",
    "s = \"\"\"Hallo,\n",
    "Mein name ist Utkarsh Chouhan.\n",
    "Ich komme aus Indien.\n",
    "Ich lebe in New Delhi.\n",
    "Und ich bin Student.\"\"\"\n",
    "print(s)"
   ]
  },
  {
   "cell_type": "markdown",
   "id": "989e74e3-90fc-47e7-9ad9-381fb172db5c",
   "metadata": {},
   "source": [
    "## Escape Sequences and Raw Strings"
   ]
  },
  {
   "cell_type": "code",
   "execution_count": 34,
   "id": "77bf6327-ae62-4267-9bbf-c737de651dcf",
   "metadata": {},
   "outputs": [
    {
     "name": "stdout",
     "output_type": "stream",
     "text": [
      "Welcome to Utkarsh's Code-book\n"
     ]
    }
   ],
   "source": [
    "s = 'Welcome to Utkarsh\\'s Code-book'\n",
    "print(s)\n",
    "# Here \\ is the escape character and it will tell Python \n",
    "# to treat the following symbol as a string, not a syntax part."
   ]
  },
  {
   "cell_type": "code",
   "execution_count": 39,
   "id": "fe48140d-9cb6-43f4-926d-adeb21449a7d",
   "metadata": {},
   "outputs": [
    {
     "name": "stdout",
     "output_type": "stream",
     "text": [
      "Hi,\n",
      "Welcome to Code\n"
     ]
    }
   ],
   "source": [
    "s = \"Hi,\\nWelcome to Code\"\n",
    "print(s)\n",
    "\n",
    "#Here \\n is a new line escape sequence and it \n",
    "# will print the following text in a new line."
   ]
  },
  {
   "cell_type": "code",
   "execution_count": 42,
   "id": "4a630052-6ac1-471d-9d0b-f0a90933e099",
   "metadata": {},
   "outputs": [],
   "source": [
    "s1 = \"A simple \\ example.\"\n",
    "s2 = \"Backslash at the end \\\\\"\n",
    "s3 = \"\\\\n\"\n",
    "s4 = \"\\\\t\""
   ]
  },
  {
   "cell_type": "code",
   "execution_count": 43,
   "id": "47e5c858-6a34-4c2a-929f-9052502778b2",
   "metadata": {},
   "outputs": [
    {
     "name": "stdout",
     "output_type": "stream",
     "text": [
      "A simple \\ example.\n",
      "Backslash at the end \\\n",
      "\\n\n",
      "\\t\n"
     ]
    }
   ],
   "source": [
    "print(s1)\n",
    "print(s2)\n",
    "print(s3)\n",
    "print(s4)"
   ]
  },
  {
   "cell_type": "code",
   "execution_count": 44,
   "id": "1ac540a5-50c5-4b10-9573-9767950e1050",
   "metadata": {},
   "outputs": [
    {
     "name": "stdout",
     "output_type": "stream",
     "text": [
      "c:\\project\n",
      "ame.py\n",
      "c:\\project\\name.py\n"
     ]
    }
   ],
   "source": [
    "# Raw Strings\n",
    "Placing a 'r' before the string \n",
    "\n",
    "s1 = \"c:\\project\\name.py\"\n",
    "s2 = r\"c:\\project\\name.py\"\n",
    "print(s1)\n",
    "\n",
    "print(s2)"
   ]
  },
  {
   "cell_type": "code",
   "execution_count": null,
   "id": "0a61d178-63e9-483d-95aa-eb3c3fc51d99",
   "metadata": {},
   "outputs": [],
   "source": []
  }
 ],
 "metadata": {
  "kernelspec": {
   "display_name": "Python 3 (ipykernel)",
   "language": "python",
   "name": "python3"
  },
  "language_info": {
   "codemirror_mode": {
    "name": "ipython",
    "version": 3
   },
   "file_extension": ".py",
   "mimetype": "text/x-python",
   "name": "python",
   "nbconvert_exporter": "python",
   "pygments_lexer": "ipython3",
   "version": "3.11.4"
  }
 },
 "nbformat": 4,
 "nbformat_minor": 5
}
