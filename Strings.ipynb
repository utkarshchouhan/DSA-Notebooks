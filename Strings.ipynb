{
 "cells": [
  {
   "cell_type": "markdown",
   "id": "9d40f284-4c70-41d9-a425-2e1c9b944d06",
   "metadata": {},
   "source": [
    "# Strings\n",
    "\n",
    "- Sequence of Characters\n",
    "- Used to store text data, like data read from a file.\n",
    "- Typically Small Set of characters.\n",
    "- Characters 'A' to 'Z' are stored as values from 65 to 90.\n",
    "- Characters 'a' to 'z' are stored as values from 91 to 122.\n",
    "- There is no char datatype in Python. So, a single character is just a string with a single character."
   ]
  },
  {
   "cell_type": "markdown",
   "id": "8c9666d8-0b49-4072-b4dd-2d155e5a52ff",
   "metadata": {},
   "source": [
    "Strings in Python"
   ]
  },
  {
   "cell_type": "code",
   "execution_count": 1,
   "id": "fa40b3c5-75be-4c1e-9f00-f5bd82f944fe",
   "metadata": {},
   "outputs": [
    {
     "name": "stdout",
     "output_type": "stream",
     "text": [
      "97\n",
      "67\n"
     ]
    }
   ],
   "source": [
    "# ord() function\n",
    "\n",
    "print(ord(\"a\")) \n",
    "print(ord(\"C\"))\n",
    "# ord() function gives the integer representation \n",
    "# of a single character. E.g - 'a' will return 97"
   ]
  },
  {
   "cell_type": "code",
   "execution_count": 2,
   "id": "bc1575bd-d534-4aac-98d3-d85284cefa5e",
   "metadata": {},
   "outputs": [
    {
     "name": "stdout",
     "output_type": "stream",
     "text": [
      "c\n",
      "A\n"
     ]
    }
   ],
   "source": [
    "# chr() function\n",
    "\n",
    "print(chr(99))\n",
    "print(chr(65))\n",
    "\n",
    "# chr() function is the counter function of ord() \n",
    "# and returns the character representation of a given integer."
   ]
  },
  {
   "cell_type": "code",
   "execution_count": 3,
   "id": "65837598-9dc4-439d-ac99-03f5fa6a0ba6",
   "metadata": {},
   "outputs": [
    {
     "name": "stdout",
     "output_type": "stream",
     "text": [
      "geek\n",
      "e\n",
      "k\n",
      "g\n",
      "e\n"
     ]
    }
   ],
   "source": [
    "# Strings are iteratable.\n",
    "# Like list we can use indexing to navigate through lists.\n",
    "s = \"geek\"\n",
    "print(s)\n",
    "print(s[-2])\n",
    "print(s[-1])\n",
    "print(s[0])\n",
    "print(s[1])"
   ]
  },
  {
   "cell_type": "code",
   "execution_count": 31,
   "id": "217f0114-e1c9-465b-ba02-18a83cd026d4",
   "metadata": {},
   "outputs": [
    {
     "data": {
      "text/plain": [
       "'\\ns = \"geek\"\\ns[0] = \"e\"\\nprint(s)'"
      ]
     },
     "execution_count": 31,
     "metadata": {},
     "output_type": "execute_result"
    }
   ],
   "source": [
    "# Strings are immutable.\n",
    "# We cannot assign a value using a string index. It will cause an error.\n",
    "\"\"\"\n",
    "s = \"geek\"\n",
    "s[0] = \"e\"\n",
    "print(s)\"\"\""
   ]
  },
  {
   "cell_type": "code",
   "execution_count": 5,
   "id": "2de90521-7c43-4625-a14a-9292ee61612e",
   "metadata": {},
   "outputs": [
    {
     "name": "stdout",
     "output_type": "stream",
     "text": [
      "Hallo,\n",
      "Mein name ist Utkarsh Chouhan.\n",
      "Ich komme aus Indien.\n",
      "Ich lebe in New Delhi.\n",
      "Und ich bin Student.\n"
     ]
    }
   ],
   "source": [
    "# Triple quoted strings in Python. Both single and double quotes are fine.\n",
    "s = \"\"\"Hallo,\n",
    "Mein name ist Utkarsh Chouhan.\n",
    "Ich komme aus Indien.\n",
    "Ich lebe in New Delhi.\n",
    "Und ich bin Student.\"\"\"\n",
    "print(s)"
   ]
  },
  {
   "cell_type": "markdown",
   "id": "989e74e3-90fc-47e7-9ad9-381fb172db5c",
   "metadata": {},
   "source": [
    "## Escape Sequences and Raw Strings"
   ]
  },
  {
   "cell_type": "code",
   "execution_count": 6,
   "id": "77bf6327-ae62-4267-9bbf-c737de651dcf",
   "metadata": {},
   "outputs": [
    {
     "name": "stdout",
     "output_type": "stream",
     "text": [
      "Welcome to Utkarsh's Code-book\n"
     ]
    }
   ],
   "source": [
    "s = 'Welcome to Utkarsh\\'s Code-book'\n",
    "print(s)\n",
    "# Here \\ is the escape character and it will tell Python \n",
    "# to treat the following symbol as a string, not a syntax part."
   ]
  },
  {
   "cell_type": "code",
   "execution_count": 7,
   "id": "fe48140d-9cb6-43f4-926d-adeb21449a7d",
   "metadata": {},
   "outputs": [
    {
     "name": "stdout",
     "output_type": "stream",
     "text": [
      "Hi,\n",
      "Welcome to Code\n"
     ]
    }
   ],
   "source": [
    "s = \"Hi,\\nWelcome to Code\"\n",
    "print(s)\n",
    "\n",
    "#Here \\n is a new line escape sequence and it \n",
    "# will print the following text in a new line."
   ]
  },
  {
   "cell_type": "code",
   "execution_count": 8,
   "id": "4a630052-6ac1-471d-9d0b-f0a90933e099",
   "metadata": {},
   "outputs": [],
   "source": [
    "s1 = \"A simple \\ example.\"\n",
    "s2 = \"Backslash at the end \\\\\"\n",
    "s3 = \"\\\\n\"\n",
    "s4 = \"\\\\t\""
   ]
  },
  {
   "cell_type": "code",
   "execution_count": 9,
   "id": "47e5c858-6a34-4c2a-929f-9052502778b2",
   "metadata": {},
   "outputs": [
    {
     "name": "stdout",
     "output_type": "stream",
     "text": [
      "A simple \\ example.\n",
      "Backslash at the end \\\n",
      "\\n\n",
      "\\t\n"
     ]
    }
   ],
   "source": [
    "print(s1)\n",
    "print(s2)\n",
    "print(s3)\n",
    "print(s4)"
   ]
  },
  {
   "cell_type": "code",
   "execution_count": 11,
   "id": "1ac540a5-50c5-4b10-9573-9767950e1050",
   "metadata": {},
   "outputs": [
    {
     "name": "stdout",
     "output_type": "stream",
     "text": [
      "c:\\project\n",
      "ame.py\n",
      "c:\\project\\name.py\n"
     ]
    }
   ],
   "source": [
    "# Raw Strings\n",
    "# Placing a 'r' before the string \n",
    "\n",
    "s1 = \"c:\\project\\name.py\"\n",
    "s2 = r\"c:\\project\\name.py\"\n",
    "print(s1)\n",
    "\n",
    "print(s2)"
   ]
  },
  {
   "cell_type": "markdown",
   "id": "2da8d179-e1af-460d-8f4d-061618d3bcff",
   "metadata": {},
   "source": [
    "## Formated String in Python"
   ]
  },
  {
   "cell_type": "code",
   "execution_count": 15,
   "id": "273af3d1-7143-428a-a101-7265a92b4469",
   "metadata": {},
   "outputs": [
    {
     "data": {
      "text/plain": [
       "'Welcome ABC to the Python course.'"
      ]
     },
     "execution_count": 15,
     "metadata": {},
     "output_type": "execute_result"
    }
   ],
   "source": [
    "# Using '%' like in c programming.\n",
    "name = \"ABC\"\n",
    "course = \"Python\"\n",
    "s = \"Welcome %s to the %s course.\"%(name,course)\n",
    "s"
   ]
  },
  {
   "cell_type": "code",
   "execution_count": 16,
   "id": "05e0e062-9d16-4def-98a1-85189642a918",
   "metadata": {},
   "outputs": [
    {
     "data": {
      "text/plain": [
       "'Welcome ABC to the Python course.'"
      ]
     },
     "execution_count": 16,
     "metadata": {},
     "output_type": "execute_result"
    }
   ],
   "source": [
    "# Using format() Function\n",
    "name = \"ABC\"\n",
    "course = \"Python\"\n",
    "s = \"Welcome {0} to the {1} course.\".format(name,course)\n",
    "s"
   ]
  },
  {
   "cell_type": "code",
   "execution_count": 17,
   "id": "fd8c6ccc-1e15-43a8-bb8c-7d3ef3a2713c",
   "metadata": {},
   "outputs": [
    {
     "data": {
      "text/plain": [
       "'Welcome ABC to the Python course.'"
      ]
     },
     "execution_count": 17,
     "metadata": {},
     "output_type": "execute_result"
    }
   ],
   "source": [
    "# Using f-string\n",
    "name = \"ABC\"\n",
    "course = \"Python\"\n",
    "s = f\"Welcome {name} to the {course} course.\"\n",
    "s"
   ]
  },
  {
   "cell_type": "code",
   "execution_count": 19,
   "id": "51ffd69a-e52c-4b42-bc1d-21745655119b",
   "metadata": {},
   "outputs": [
    {
     "name": "stdout",
     "output_type": "stream",
     "text": [
      "Sum of 10 and 20 is 30\n"
     ]
    }
   ],
   "source": [
    "# Expressions in F-string\n",
    "a,b = 10,20\n",
    "print(f\"Sum of {a} and {b} is {a+b}\")"
   ]
  },
  {
   "cell_type": "code",
   "execution_count": 21,
   "id": "0beb7783-d8c1-4936-aacb-3207a50fa15f",
   "metadata": {},
   "outputs": [
    {
     "name": "stdout",
     "output_type": "stream",
     "text": [
      "Lower case of ABC is abc \n",
      "Upper case of def is DEF \n"
     ]
    }
   ],
   "source": [
    "# Expressions in F-string\n",
    "s1 = \"ABC\"\n",
    "s2 = \"def\"\n",
    "\n",
    "print(f\"Lower case of {s1} is {s1.lower()} \")\n",
    "print(f\"Upper case of {s2} is {s2.upper()} \")"
   ]
  },
  {
   "cell_type": "markdown",
   "id": "f92aa4ca-980f-497c-8367-e7dcbd811a12",
   "metadata": {},
   "source": [
    "## String comparison in Python"
   ]
  },
  {
   "cell_type": "code",
   "execution_count": 26,
   "id": "82291d45-7f11-4e25-91e4-f5c653a44374",
   "metadata": {},
   "outputs": [
    {
     "name": "stdout",
     "output_type": "stream",
     "text": [
      "False\n",
      "False\n",
      "True\n",
      "True\n",
      "False\n",
      "True\n"
     ]
    }
   ],
   "source": [
    "s1 = \"utkarsh\"\n",
    "s2 = \"python\"\n",
    "print(s1<s2)\n",
    "print(s1<=s2)\n",
    "print(s1>s2)\n",
    "print(s1>=s2)\n",
    "print(s1==s2)\n",
    "print(s1!=s2)"
   ]
  },
  {
   "cell_type": "code",
   "execution_count": 28,
   "id": "12bd053f-8267-4a3a-9190-64319edeb2f3",
   "metadata": {},
   "outputs": [
    {
     "name": "stdout",
     "output_type": "stream",
     "text": [
      "True\n"
     ]
    }
   ],
   "source": [
    "print(\"abcd\">\"abc\") # as the first string has more characters."
   ]
  },
  {
   "cell_type": "code",
   "execution_count": 30,
   "id": "bb21a7a6-1cdf-43e8-b085-a62d55c7d635",
   "metadata": {},
   "outputs": [
    {
     "name": "stdout",
     "output_type": "stream",
     "text": [
      "True\n"
     ]
    }
   ],
   "source": [
    "print(\"x\">\"abcd\") # as x has a greater unicode value than a, that is why here x is greater."
   ]
  },
  {
   "cell_type": "markdown",
   "id": "71df8a5b-7be2-4ebc-a3c0-e0771d121ea0",
   "metadata": {},
   "source": [
    "## String Operations"
   ]
  },
  {
   "cell_type": "code",
   "execution_count": 37,
   "id": "9ac42b3e-ff31-4ff0-ab9d-98165fd32441",
   "metadata": {},
   "outputs": [
    {
     "name": "stdout",
     "output_type": "stream",
     "text": [
      "True\n",
      "False\n"
     ]
    }
   ],
   "source": [
    "# In Operator.\n",
    "# Checking whether a given string is a substring of some other string.\n",
    "s1 = \"utkarshchouhan\"\n",
    "s2 = \"utk\"\n",
    "print(s2 in s1)\n",
    "print(s2 not in s1)"
   ]
  },
  {
   "cell_type": "code",
   "execution_count": 42,
   "id": "4743fe65-71ee-403d-9293-93885d5cbc96",
   "metadata": {},
   "outputs": [
    {
     "data": {
      "text/plain": [
       "'Welcome Mr Utkarsh Chouhan'"
      ]
     },
     "execution_count": 42,
     "metadata": {},
     "output_type": "execute_result"
    }
   ],
   "source": [
    "# Concatenation\n",
    "s1 = \"Utkarsh\"\n",
    "s2 = \" Chouhan\"\n",
    "s3 = s1 + s2\n",
    "s4 = \"Welcome Mr \" + s3\n",
    "s4"
   ]
  },
  {
   "cell_type": "code",
   "execution_count": 52,
   "id": "8f7761f1-4356-45e9-b721-9b8917465b14",
   "metadata": {},
   "outputs": [
    {
     "name": "stdout",
     "output_type": "stream",
     "text": [
      "0\n",
      "8\n",
      "0\n",
      "8\n",
      "8\n"
     ]
    }
   ],
   "source": [
    "# Finding the position of a sub-string.\n",
    "\n",
    "s1 = \"geeksforgeeks\"\n",
    "s2 = \"geeks\"\n",
    "\n",
    "print(s1.index(s2)) # Returns index of first appearance.\n",
    "print(s1.rindex(s2)) # Returns the last index where the substring is present.\n",
    "print(s1.index(s2,0,13)) # We can provide additional parameters like the start and end index + 1 to search between.\n",
    "print(s1.index(s2,5,13))\n",
    "print(s1.rindex(s2,0,13))"
   ]
  },
  {
   "cell_type": "code",
   "execution_count": 53,
   "id": "43af4e6c-43dc-47ea-8222-b6b24f50272b",
   "metadata": {},
   "outputs": [
    {
     "name": "stdout",
     "output_type": "stream",
     "text": [
      "5\n"
     ]
    }
   ],
   "source": [
    "# Len Function\n",
    "s1 = \"geeks\"\n",
    "print(len(s1))"
   ]
  },
  {
   "cell_type": "code",
   "execution_count": 54,
   "id": "3d8078e8-4772-4952-9a7a-2b258da62710",
   "metadata": {},
   "outputs": [
    {
     "data": {
      "text/plain": [
       "'UTKARSH'"
      ]
     },
     "execution_count": 54,
     "metadata": {},
     "output_type": "execute_result"
    }
   ],
   "source": [
    "# Upper function\n",
    "s2 = \"utkarsh\"\n",
    "s2.upper()"
   ]
  },
  {
   "cell_type": "code",
   "execution_count": 55,
   "id": "a9dde206-60a3-4c89-9ef2-70fe25da3228",
   "metadata": {},
   "outputs": [
    {
     "data": {
      "text/plain": [
       "'chouhan'"
      ]
     },
     "execution_count": 55,
     "metadata": {},
     "output_type": "execute_result"
    }
   ],
   "source": [
    "# Lower Function\n",
    "s3 = \"CHOUHAN\"\n",
    "s3.lower()"
   ]
  },
  {
   "cell_type": "code",
   "execution_count": 57,
   "id": "1a319134-f554-423b-8029-eaf6d054d6e3",
   "metadata": {},
   "outputs": [
    {
     "data": {
      "text/plain": [
       "False"
      ]
     },
     "execution_count": 57,
     "metadata": {},
     "output_type": "execute_result"
    }
   ],
   "source": [
    "# islower() - Returns True if not a single uppercase is found.\n",
    "s4 = \"Utkarsh\"\n",
    "s4.islower()"
   ]
  },
  {
   "cell_type": "code",
   "execution_count": 58,
   "id": "6e54eb6c-3872-4bd5-afc6-806720804689",
   "metadata": {},
   "outputs": [
    {
     "data": {
      "text/plain": [
       "True"
      ]
     },
     "execution_count": 58,
     "metadata": {},
     "output_type": "execute_result"
    }
   ],
   "source": [
    "# isupper() - Returns True if not a single lowercase is found.\n",
    "s5 = \"CHOUHAN\"\n",
    "s5.isupper()"
   ]
  },
  {
   "cell_type": "code",
   "execution_count": 68,
   "id": "f4948aa0-f161-4019-b3f2-81090ac09b42",
   "metadata": {},
   "outputs": [
    {
     "name": "stdout",
     "output_type": "stream",
     "text": [
      "True\n",
      "True\n",
      "False\n",
      "True\n"
     ]
    }
   ],
   "source": [
    "# startswith and endswith methods.\n",
    "s = \"GeeksforGeeks python course\"\n",
    "print(s.startswith(\"Geeks\"))\n",
    "print(s.endswith(\"course\"))\n",
    "print(s.startswith(\"Geeks\",2)) # We can also provide indexes.\n",
    "print(s.startswith(\"Geeks\",8))"
   ]
  },
  {
   "cell_type": "code",
   "execution_count": 72,
   "id": "eb2d654f-1c85-4e22-ab82-103c3ee2a781",
   "metadata": {},
   "outputs": [
    {
     "name": "stdout",
     "output_type": "stream",
     "text": [
      "['geeks', 'for', 'geeks']\n",
      "['geeks', 'for', 'geeks']\n"
     ]
    }
   ],
   "source": [
    "# Split Function\n",
    "# Takes a string as input and returns a list of separated substrings.\n",
    "s1 = \"geeks for geeks\"\n",
    "print(s1.split()) # Default separator is space.\n",
    "# We can change the separator by passing it as a parameter.\n",
    "s2 = \"geeks,for,geeks\"\n",
    "print(s2.split(\",\"))\n"
   ]
  },
  {
   "cell_type": "code",
   "execution_count": 77,
   "id": "8e7f7819-db6d-45d2-99b7-b791c87b9a5a",
   "metadata": {},
   "outputs": [
    {
     "name": "stdout",
     "output_type": "stream",
     "text": [
      "Utkarsh Chouhan learns python\n",
      "Utkarsh,Chouhan,learns,python\n"
     ]
    }
   ],
   "source": [
    "# Join Function (Counter function of split)\n",
    "# It takes a list as input and joins them to return a single string.\n",
    "\n",
    "l = ['Utkarsh','Chouhan','learns','python']\n",
    "print(\" \".join(l))\n",
    "print(\",\".join(l))"
   ]
  },
  {
   "cell_type": "code",
   "execution_count": 84,
   "id": "cf777197-c02e-4cdd-84fe-31361811bbd9",
   "metadata": {},
   "outputs": [
    {
     "name": "stdout",
     "output_type": "stream",
     "text": [
      "utkarsh\n",
      "utkarsh--\n",
      "--utkarsh\n"
     ]
    }
   ],
   "source": [
    "# Strip, lstrip and rstrip Function\n",
    "# Removes white space by default.\n",
    "s = \"--utkarsh--\"\n",
    "print(s.strip(\"-\"))\n",
    "print(s.lstrip(\"-\"))\n",
    "print(s.rstrip(\"-\"))"
   ]
  },
  {
   "cell_type": "code",
   "execution_count": 88,
   "id": "e665cf21-d5fd-4f34-916d-61ff8955eb5d",
   "metadata": {},
   "outputs": [
    {
     "name": "stdout",
     "output_type": "stream",
     "text": [
      "0\n",
      "-1\n"
     ]
    }
   ],
   "source": [
    "# Find method\n",
    "# Used to search a given string inside another string.\n",
    "# Similar to index function. But if the condition does not match. It will return -1 instead of an error.\n",
    "s1 = \"geeks for geeks\"\n",
    "s2 = \"geeks\"\n",
    "print(s1.find(s2))\n",
    "print(s1.find(\"gfg\")) \n"
   ]
  },
  {
   "cell_type": "code",
   "execution_count": 1,
   "id": "7eda0919-e732-4db5-9185-514588d7fb3d",
   "metadata": {},
   "outputs": [
    {
     "name": "stdin",
     "output_type": "stream",
     "text": [
      "Enter a string:  Utkarsh\n"
     ]
    },
    {
     "name": "stdout",
     "output_type": "stream",
     "text": [
      "hsraktU\n"
     ]
    }
   ],
   "source": [
    "# Reverse a String in Python.\n",
    "# Take a string from the user and return a reversed string.\n",
    "\n",
    "# Python strings are irreversible so we can not change the existing string.\n",
    "# So to reverse a string we have to create a new one.\n",
    "s = input(\"Enter a string: \")\n",
    "rev = \"\"\n",
    "for i in s:\n",
    "    rev = i+rev\n",
    "print(rev)"
   ]
  },
  {
   "cell_type": "code",
   "execution_count": 2,
   "id": "7d2c58ee-dd21-4ea2-af07-e888a21efbf1",
   "metadata": {},
   "outputs": [
    {
     "name": "stdin",
     "output_type": "stream",
     "text": [
      "Enter a string:  Chouhan\n"
     ]
    },
    {
     "name": "stdout",
     "output_type": "stream",
     "text": [
      "nahuohC\n"
     ]
    }
   ],
   "source": [
    "# Smart Method using string slicing.\n",
    "s = input(\"Enter a string: \")\n",
    "print(s[::-1)\n",
    "# Requires no additional space."
   ]
  },
  {
   "cell_type": "code",
   "execution_count": 6,
   "id": "bd2dca3c-b2a2-44f2-b1b4-cea973a94638",
   "metadata": {},
   "outputs": [],
   "source": [
    "# Check if the string is rotated.\n",
    "def rotations():\n",
    "    \"\"\"Takes no args\n",
    "    just call the function.\"\"\"\n",
    "    s1 = input(\"Enter a string: \")\n",
    "    s2 = input(\"Enter a string: \")\n",
    "\n",
    "    if len(s1) != len(s2):\n",
    "        return False\n",
    "    temp = ''\n",
    "    temp = s1 + s1\n",
    "    return temp.find(s2) != -1"
   ]
  },
  {
   "cell_type": "code",
   "execution_count": 15,
   "id": "e917ba41-7bf2-419e-b991-a2e27fab30c0",
   "metadata": {},
   "outputs": [
    {
     "name": "stdin",
     "output_type": "stream",
     "text": [
      "Enter a string:  abcd\n",
      "Enter a string:  bcda\n"
     ]
    },
    {
     "data": {
      "text/plain": [
       "True"
      ]
     },
     "execution_count": 15,
     "metadata": {},
     "output_type": "execute_result"
    }
   ],
   "source": [
    "rotations()"
   ]
  },
  {
   "cell_type": "code",
   "execution_count": 6,
   "id": "35327300-b6f5-4744-b04a-0ff597d5ea3d",
   "metadata": {
    "scrolled": true
   },
   "outputs": [
    {
     "name": "stdin",
     "output_type": "stream",
     "text": [
      "Enter a string:  abba\n"
     ]
    },
    {
     "name": "stdout",
     "output_type": "stream",
     "text": [
      "Yes\n"
     ]
    }
   ],
   "source": [
    "# Check for Palindrome in Python.\n",
    "s = input(\"Enter a string: \")\n",
    "low = 0\n",
    "high = len(s)-1\n",
    "while low < high:\n",
    "    if s[low] != s[high]:\n",
    "        print(\"No\")\n",
    "        break\n",
    "        \n",
    "    low = low+1\n",
    "    high = high-1\n",
    "    \n",
    "else:\n",
    "    print(\"Yes\")\n",
    "# Here we have used a special Python feature i.e. else with a while loop."
   ]
  },
  {
   "cell_type": "code",
   "execution_count": 8,
   "id": "7fe8abce-cb20-44cd-a53e-b3564503db77",
   "metadata": {},
   "outputs": [
    {
     "name": "stdin",
     "output_type": "stream",
     "text": [
      "Enter a string:  abfha\n"
     ]
    },
    {
     "name": "stdout",
     "output_type": "stream",
     "text": [
      "No\n"
     ]
    }
   ],
   "source": [
    "# Smart Code\n",
    "s = input(\"Enter a string: \")\n",
    "if s == s[::-1]:\n",
    "    print(\"Yes\")\n",
    "else:\n",
    "    print(\"No\")"
   ]
  },
  {
   "cell_type": "code",
   "execution_count": null,
   "id": "f21bd9ac-2c9f-487d-99cc-cecf53684a03",
   "metadata": {},
   "outputs": [],
   "source": [
    "# Check if a String is Subsequence of other.\n",
    " "
   ]
  }
 ],
 "metadata": {
  "kernelspec": {
   "display_name": "Python 3 (ipykernel)",
   "language": "python",
   "name": "python3"
  },
  "language_info": {
   "codemirror_mode": {
    "name": "ipython",
    "version": 3
   },
   "file_extension": ".py",
   "mimetype": "text/x-python",
   "name": "python",
   "nbconvert_exporter": "python",
   "pygments_lexer": "ipython3",
   "version": "3.11.4"
  }
 },
 "nbformat": 4,
 "nbformat_minor": 5
}
