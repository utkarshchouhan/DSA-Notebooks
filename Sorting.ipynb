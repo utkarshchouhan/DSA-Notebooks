{
 "cells": [
  {
   "cell_type": "markdown",
   "id": "bf714f97-2ef6-4c7a-97e7-4c7c9cb367d9",
   "metadata": {},
   "source": [
    "# Sorting In Python"
   ]
  },
  {
   "cell_type": "markdown",
   "id": "a4769a8d-930b-43e3-90ce-d47b74d4634b",
   "metadata": {},
   "source": [
    "### sort()\n",
    "- works only for list\n",
    "- Sorts in-place\n",
    "- Modifies the same list.\n",
    "\n",
    "### sorted()\n",
    "- Works for any iterable\n",
    "- Does not modify the passed container, instead returns a new list of sorted items.\n",
    "\n",
    "### Tim Sort\n",
    "- Both of the methods use Tim Sort and both are stable sorting methods.\n",
    "- Tim Sort is a hybrid algorithm made merge sort and insertion sort.\n",
    "- Tim Sort has Big O of nlog(n) time complexity."
   ]
  },
  {
   "cell_type": "markdown",
   "id": "534221b1-85b3-40ec-9f1a-003202d13b78",
   "metadata": {},
   "source": [
    "# List sort() method in Python"
   ]
  },
  {
   "cell_type": "code",
   "execution_count": 7,
   "id": "6210caba-3ac5-4a52-91ed-9427281b9e0e",
   "metadata": {},
   "outputs": [
    {
     "data": {
      "text/plain": [
       "[1, 5, 10, 15]"
      ]
     },
     "execution_count": 7,
     "metadata": {},
     "output_type": "execute_result"
    }
   ],
   "source": [
    "l1 = [5,10,15,1]\n",
    "l1.sort()\n",
    "l1"
   ]
  },
  {
   "cell_type": "code",
   "execution_count": 8,
   "id": "a30370cc-1635-489a-bfe1-c20f63da0f5e",
   "metadata": {},
   "outputs": [
    {
     "data": {
      "text/plain": [
       "[10, 5, 3, 1]"
      ]
     },
     "execution_count": 8,
     "metadata": {},
     "output_type": "execute_result"
    }
   ],
   "source": [
    "l2 = [1,5,3,10]\n",
    "l2.sort(reverse = True)\n",
    "l2"
   ]
  },
  {
   "cell_type": "code",
   "execution_count": 11,
   "id": "99a0ab72-6a60-4d87-b2eb-37a8450ea50c",
   "metadata": {},
   "outputs": [
    {
     "data": {
      "text/plain": [
       "['courses', 'ide', 'utkarsh']"
      ]
     },
     "execution_count": 11,
     "metadata": {},
     "output_type": "execute_result"
    }
   ],
   "source": [
    "l3 = [\"utkarsh\", \"ide\", \"courses\"]\n",
    "l3.sort()\n",
    "l3"
   ]
  },
  {
   "cell_type": "code",
   "execution_count": 12,
   "id": "8cfc3493-5aa0-432f-9f36-7c142b2585b9",
   "metadata": {},
   "outputs": [
    {
     "data": {
      "text/plain": [
       "['ide', 'utkarsh', 'courses', 'chouhan']"
      ]
     },
     "execution_count": 12,
     "metadata": {},
     "output_type": "execute_result"
    }
   ],
   "source": [
    "def myFun(s):\n",
    "    return len(s)\n",
    "l = [\"utkarsh\", \"ide\", \"courses\",\"chouhan\"]\n",
    "l.sort(key = myFun)\n",
    "l"
   ]
  },
  {
   "cell_type": "code",
   "execution_count": 13,
   "id": "fdf442a9-026d-4d8e-b953-8b21c28d63fe",
   "metadata": {},
   "outputs": [
    {
     "data": {
      "text/plain": [
       "['utkarsh', 'courses', 'chouhan', 'ide']"
      ]
     },
     "execution_count": 13,
     "metadata": {},
     "output_type": "execute_result"
    }
   ],
   "source": [
    "l.sort(key = myFun, reverse = True)\n",
    "l"
   ]
  },
  {
   "cell_type": "code",
   "execution_count": 28,
   "id": "c29cd390-ee8d-4125-a134-1d5b71874951",
   "metadata": {},
   "outputs": [
    {
     "name": "stdout",
     "output_type": "stream",
     "text": [
      "1 15\n",
      "3 8\n",
      "10 5\n"
     ]
    }
   ],
   "source": [
    "class Point:\n",
    "    def __init__(self,x,y):\n",
    "        self.x = x\n",
    "        self.y = y\n",
    "\n",
    "def myFun(p):\n",
    "    return p.x\n",
    "\n",
    "l = [Point(1,15),Point(10,5),Point(3,8)]\n",
    "l.sort(key = myFun)\n",
    "for i in l:\n",
    "    print(i.x,i.y)"
   ]
  },
  {
   "cell_type": "code",
   "execution_count": 32,
   "id": "dbe94811-906f-4f41-ab61-b77f0e0272e1",
   "metadata": {},
   "outputs": [
    {
     "name": "stdout",
     "output_type": "stream",
     "text": [
      "1 15\n",
      "3 8\n",
      "10 5\n"
     ]
    }
   ],
   "source": [
    "class Point:\n",
    "    def __init__(self,x,y):\n",
    "        self.x = x\n",
    "        self.y = y\n",
    "    def __lt__(self,other):\n",
    "            return self.x < other.x\n",
    "\n",
    "        \n",
    "l = [Point(1,15),Point(10,5),Point(3,8)]\n",
    "l.sort()\n",
    "for i in l:\n",
    "    print(i.x,i.y)"
   ]
  },
  {
   "cell_type": "code",
   "execution_count": 30,
   "id": "f37825af-50bb-4af5-8791-405c0b598a73",
   "metadata": {},
   "outputs": [
    {
     "name": "stdout",
     "output_type": "stream",
     "text": [
      "1 8\n",
      "1 15\n",
      "10 5\n"
     ]
    }
   ],
   "source": [
    "class Point:\n",
    "    def __init__(self,x,y):\n",
    "        self.x = x\n",
    "        self.y = y\n",
    "    def __lt__(self,other):\n",
    "        if self.x == other.x:\n",
    "            return self.y < other.y\n",
    "        else:\n",
    "            return self.x < other.x\n",
    "\n",
    "        \n",
    "l = [Point(1,15),Point(10,5),Point(1,8)]\n",
    "l.sort()\n",
    "for i in l:\n",
    "    print(i.x,i.y)"
   ]
  },
  {
   "cell_type": "markdown",
   "id": "91711a57-5100-47e5-8730-46509b37b58c",
   "metadata": {},
   "source": [
    "# sorted() function in Python for any Iterable\n",
    "\n",
    "- Works for any iterable(List, Tuple, Dictonary, String, Set, Etc.).\n",
    "- Returns a list with sorted items.\n",
    "- Parameteres like reverse and key work same way as sort()."
   ]
  },
  {
   "cell_type": "code",
   "execution_count": 38,
   "id": "1d3f5420-fda8-4216-bfa9-1f89415839c3",
   "metadata": {},
   "outputs": [
    {
     "data": {
      "text/plain": [
       "[10, 1, -2, -15]"
      ]
     },
     "execution_count": 38,
     "metadata": {},
     "output_type": "execute_result"
    }
   ],
   "source": [
    "l = [10,-15,-2,1]\n",
    "ls = sorted(l,reverse = True)\n",
    "ls"
   ]
  },
  {
   "cell_type": "code",
   "execution_count": 42,
   "id": "9fe92a4f-22a0-48da-a178-e071f7e93d91",
   "metadata": {},
   "outputs": [
    {
     "name": "stdout",
     "output_type": "stream",
     "text": [
      "['d', 'e', 'h', 'l', 'l', 'l', 'o', 'o', 'r', 'w']\n"
     ]
    }
   ],
   "source": [
    "string = 'helloworld'\n",
    "print(sorted(string))"
   ]
  },
  {
   "cell_type": "code",
   "execution_count": 39,
   "id": "b5b64a83-b0d0-49c2-be60-7192f4a57b87",
   "metadata": {},
   "outputs": [
    {
     "name": "stdout",
     "output_type": "stream",
     "text": [
      "[1, 5, 10, 12]\n"
     ]
    }
   ],
   "source": [
    "t = (10,12,5,1)\n",
    "print(sorted(t))"
   ]
  },
  {
   "cell_type": "code",
   "execution_count": 41,
   "id": "abb06ca8-d466-4f9f-bce9-5a62010466ae",
   "metadata": {},
   "outputs": [
    {
     "name": "stdout",
     "output_type": "stream",
     "text": [
      "['courses', 'python', 'utkarsh']\n"
     ]
    }
   ],
   "source": [
    "s = {\"utkarsh\", \"courses\", \"python\"}\n",
    "print(sorted(s))"
   ]
  },
  {
   "cell_type": "code",
   "execution_count": 1,
   "id": "389ac90f-259b-435d-99c5-97e5a89b86ae",
   "metadata": {},
   "outputs": [
    {
     "name": "stdout",
     "output_type": "stream",
     "text": [
      "[5, 10, 15]\n"
     ]
    }
   ],
   "source": [
    "d = {10: \"hello\",15: \"ide\",5: \"courses\"}\n",
    "print(sorted(d))"
   ]
  },
  {
   "cell_type": "code",
   "execution_count": 2,
   "id": "ab40697f-32da-41b0-803b-5f88c45b0813",
   "metadata": {},
   "outputs": [
    {
     "name": "stdout",
     "output_type": "stream",
     "text": [
      "[(1, 8), (2, 3), (10, 5)]\n"
     ]
    }
   ],
   "source": [
    "l = [(10,5),(1,8),(2,3)]\n",
    "print(sorted(l))   # Here the first item will be compared."
   ]
  },
  {
   "cell_type": "markdown",
   "id": "49f2f2f9-6a76-4b46-9469-e5076012db46",
   "metadata": {},
   "source": [
    "# Bubble Sort"
   ]
  },
  {
   "cell_type": "markdown",
   "id": "9ec6139f-2929-49dc-be92-1bf657c66157",
   "metadata": {},
   "source": [
    "Time Complexity:\n",
    "\n",
    "Theta(n^2)"
   ]
  },
  {
   "cell_type": "code",
   "execution_count": 17,
   "id": "49a4dcfd-fe92-4b78-8497-c6a405df390a",
   "metadata": {},
   "outputs": [],
   "source": [
    "def bubbleSort(l):\n",
    "    n = len(l)\n",
    "    for i in range(n-1):\n",
    "        for j in range(n-i-1):\n",
    "            if l[j] > l[j+1]:\n",
    "                l[j],l[j+1] = l[j+1],l[j]"
   ]
  },
  {
   "cell_type": "code",
   "execution_count": 18,
   "id": "15e91d76-685e-415f-9895-8496096387cb",
   "metadata": {},
   "outputs": [
    {
     "data": {
      "text/plain": [
       "[10, 14, 4, 52, 5, 3]"
      ]
     },
     "execution_count": 18,
     "metadata": {},
     "output_type": "execute_result"
    }
   ],
   "source": [
    "arr = [10,14,4,52,5,3]\n",
    "arr"
   ]
  },
  {
   "cell_type": "code",
   "execution_count": 19,
   "id": "d3c27783-282a-496c-ab62-e9e2134f3a9f",
   "metadata": {},
   "outputs": [
    {
     "data": {
      "text/plain": [
       "[3, 4, 5, 10, 14, 52]"
      ]
     },
     "execution_count": 19,
     "metadata": {},
     "output_type": "execute_result"
    }
   ],
   "source": [
    "bubbleSort(arr)\n",
    "arr"
   ]
  },
  {
   "cell_type": "code",
   "execution_count": 21,
   "id": "41431549-5958-467c-aaca-1f1b500862e4",
   "metadata": {},
   "outputs": [],
   "source": [
    "# Optimized Code - It will check in the iteration if the list is already sorted."
   ]
  },
  {
   "cell_type": "code",
   "execution_count": 27,
   "id": "59246076-8f5d-4dbd-9194-d82f8bcad7e3",
   "metadata": {},
   "outputs": [],
   "source": [
    "def bubbleSortOptimum(l):\n",
    "    n = len(l)\n",
    "    for i in range(n-1):\n",
    "        swapped = False\n",
    "        for j in range(n-i-1):\n",
    "            if l[j] > l[j+1]:\n",
    "                l[j],l[j+1] = l[j+1],l[j]\n",
    "                swapped = True\n",
    "        if swapped == False:\n",
    "            return \"List is already Sorted\""
   ]
  },
  {
   "cell_type": "code",
   "execution_count": 28,
   "id": "8477bbd8-440c-4d00-9758-9839e58a321c",
   "metadata": {},
   "outputs": [
    {
     "data": {
      "text/plain": [
       "[3, 4, 5, 10, 14, 52]"
      ]
     },
     "execution_count": 28,
     "metadata": {},
     "output_type": "execute_result"
    }
   ],
   "source": [
    "arr"
   ]
  },
  {
   "cell_type": "code",
   "execution_count": 29,
   "id": "05f8090b-4e0b-4b44-b892-dd2ebcc4fa6f",
   "metadata": {},
   "outputs": [
    {
     "data": {
      "text/plain": [
       "'List is already Sorted'"
      ]
     },
     "execution_count": 29,
     "metadata": {},
     "output_type": "execute_result"
    }
   ],
   "source": [
    "bubbleSortOptimum(arr)"
   ]
  },
  {
   "cell_type": "markdown",
   "id": "b87ffb19-ef50-4f36-b9cf-1b3e45551168",
   "metadata": {},
   "source": [
    "# Selection Sort\n",
    "\n",
    "- Theta(n^2) Time Complexity\n",
    "- Does less memory writes compared to QuickSort, MergeSort, Insertion Sort, etc..\n",
    "- But Cycle sort is optimal in terms of memory writes.\n",
    "- Basic Idea for HeapSort\n",
    "- Not Stable\n",
    "- In-Place"
   ]
  },
  {
   "cell_type": "code",
   "execution_count": 35,
   "id": "241762e9-22c4-409a-8661-a1adfc7f85c8",
   "metadata": {},
   "outputs": [],
   "source": [
    "def selectSort(l):\n",
    "    n = len(l)\n",
    "    for i in range(n-1):\n",
    "        min_ind = i\n",
    "        for j in range(i+1,n):\n",
    "            if l[j] < l[min_ind]:\n",
    "                min_ind = j\n",
    "        l[min_ind], l[i] = l[i],l[min_ind]\n",
    "        #print(l)\n",
    "    return l"
   ]
  },
  {
   "cell_type": "code",
   "execution_count": 36,
   "id": "fa775b17-060c-4b32-b98c-f717ad512c6f",
   "metadata": {},
   "outputs": [],
   "source": [
    "arr = [10,8,5,20,2,18]"
   ]
  },
  {
   "cell_type": "code",
   "execution_count": 37,
   "id": "320aaa95-dd04-450e-8da7-ffce5f0e6674",
   "metadata": {},
   "outputs": [
    {
     "data": {
      "text/plain": [
       "[2, 5, 8, 10, 18, 20]"
      ]
     },
     "execution_count": 37,
     "metadata": {},
     "output_type": "execute_result"
    }
   ],
   "source": [
    "selectSort(arr)"
   ]
  },
  {
   "cell_type": "code",
   "execution_count": null,
   "id": "403f9343-bb4f-4b69-a1a5-211fc7231825",
   "metadata": {},
   "outputs": [],
   "source": []
  }
 ],
 "metadata": {
  "kernelspec": {
   "display_name": "Python 3 (ipykernel)",
   "language": "python",
   "name": "python3"
  },
  "language_info": {
   "codemirror_mode": {
    "name": "ipython",
    "version": 3
   },
   "file_extension": ".py",
   "mimetype": "text/x-python",
   "name": "python",
   "nbconvert_exporter": "python",
   "pygments_lexer": "ipython3",
   "version": "3.11.4"
  }
 },
 "nbformat": 4,
 "nbformat_minor": 5
}
